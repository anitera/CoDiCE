{
 "cells": [
  {
   "cell_type": "markdown",
   "metadata": {},
   "source": [
    "## Setting Up and Importing Libraries\n",
    "In this step, we'll import the necessary libraries and modules. We'll also ensure the correct path is set to access our custom modules."
   ]
  },
  {
   "cell_type": "code",
   "execution_count": 1,
   "metadata": {},
   "outputs": [
    {
     "name": "stdout",
     "output_type": "stream",
     "text": [
      "/home/rita/TRUST_AI/trustframework/trustCE\n"
     ]
    }
   ],
   "source": [
    "# Import necessary libraries\n",
    "import pandas as pd\n",
    "import os\n",
    "import sys\n",
    "import json\n",
    "\n",
    "os.chdir(os.path.join(os.getcwd(), '..'))\n",
    "print(os.getcwd())\n",
    "\n",
    "from src.cfsearch import CFsearch\n",
    "from src.dataset import Dataset\n",
    "from src.explainable_model import ExplainableModel\n",
    "from src.ceinstance.instance_sampler import CEInstanceSampler\n",
    "from src.config import Config\n",
    "from src.transformer import Transformer\n",
    "from src.ceinstance.instance_factory import InstanceFactory\n",
    "from src import load_datasets"
   ]
  },
  {
   "cell_type": "markdown",
   "metadata": {},
   "source": [
    "## Loading Configuration\n",
    "Here, we'll load our configuration files which dictate various parameters for our counterfactual search. It includes dataset details, feature management, and other related configurations."
   ]
  },
  {
   "cell_type": "code",
   "execution_count": 2,
   "metadata": {},
   "outputs": [
    {
     "name": "stdout",
     "output_type": "stream",
     "text": [
      "Configuration Loaded:\n",
      "<src.config.Config object at 0x7fcc9426cd60>\n"
     ]
    }
   ],
   "source": [
    "# Load configuration\n",
    "config_file_path = \"config/conf.yaml\"\n",
    "config = Config(config_file_path)\n",
    "\n",
    "with open(\"config/constraints_conf.json\", 'r') as file:\n",
    "    constraints = json.load(file)\n",
    "\n",
    "print(\"Configuration Loaded:\")\n",
    "print(config)"
   ]
  },
  {
   "cell_type": "markdown",
   "metadata": {},
   "source": [
    "## Preparing Dataset and Model\n",
    "In this section, we initialize our dataset, model, and the required transformers. We'll also define a sample instance for which we wish to find the counterfactuals."
   ]
  },
  {
   "cell_type": "code",
   "execution_count": 3,
   "metadata": {},
   "outputs": [],
   "source": [
    "# Set the target instance path\n",
    "target_instance_json = \"input_instance/instance.json\"\n",
    "\n",
    "# Load the dataset and set up the necessary objects\n",
    "load_datasets.download(\"homeloan\")"
   ]
  },
  {
   "cell_type": "code",
   "execution_count": 4,
   "metadata": {},
   "outputs": [
    {
     "name": "stdout",
     "output_type": "stream",
     "text": [
      "Features verified\n",
      "Continious features: ['ApplicantIncome', 'CoapplicantIncome', 'LoanAmount', 'Loan_Amount_Term']\n",
      "Categorical features: ['Gender', 'Married', 'Dependents', 'Education', 'Self_Employed', 'Property_Area', 'Credit_History']\n",
      "Dataset preprocessed\n",
      "Feature: Loan_Amount_Term\n",
      "Range: [-5.044846090672854, 2.106513522957348]\n",
      "Feature: Self_Employed\n",
      "Range: [0, 1]\n",
      "Feature: CoapplicantIncome\n",
      "Range: [-0.548056854219573, 13.372167288446008]\n",
      "Feature: LoanAmount\n",
      "Range: [-1.5999485916282457, 6.4030605082645256]\n",
      "Feature: Credit_History\n",
      "Range: [0, 1]\n",
      "Feature: Property_Area\n",
      "Range: [0, 2]\n",
      "Feature: Married\n",
      "Range: [0, 1]\n",
      "Feature: Education\n",
      "Range: [0, 1]\n",
      "Feature: Dependents\n",
      "Range: [0, 3]\n",
      "Feature: ApplicantIncome\n",
      "Range: [-0.8484208485011342, 12.13039262846177]\n",
      "Feature: Gender\n",
      "Range: [0, 1]\n",
      "Constraint Type: immutable\n",
      "Sanity check for model\n",
      "Model input shape is  11\n"
     ]
    },
    {
     "name": "stderr",
     "output_type": "stream",
     "text": [
      "/home/rita/TRUST_AI/trustframework/trustCE/trustce/lib/python3.9/site-packages/sklearn/preprocessing/_label.py:97: DataConversionWarning: A column-vector y was passed when a 1d array was expected. Please change the shape of y to (n_samples, ), for example using ravel().\n",
      "  y = column_or_1d(y, warn=True)\n",
      "/home/rita/TRUST_AI/trustframework/trustCE/trustce/lib/python3.9/site-packages/sklearn/preprocessing/_label.py:97: DataConversionWarning: A column-vector y was passed when a 1d array was expected. Please change the shape of y to (n_samples, ), for example using ravel().\n",
      "  y = column_or_1d(y, warn=True)\n",
      "/home/rita/TRUST_AI/trustframework/trustCE/trustce/lib/python3.9/site-packages/sklearn/preprocessing/_label.py:97: DataConversionWarning: A column-vector y was passed when a 1d array was expected. Please change the shape of y to (n_samples, ), for example using ravel().\n",
      "  y = column_or_1d(y, warn=True)\n",
      "/home/rita/TRUST_AI/trustframework/trustCE/trustce/lib/python3.9/site-packages/sklearn/preprocessing/_label.py:97: DataConversionWarning: A column-vector y was passed when a 1d array was expected. Please change the shape of y to (n_samples, ), for example using ravel().\n",
      "  y = column_or_1d(y, warn=True)\n",
      "/home/rita/TRUST_AI/trustframework/trustCE/trustce/lib/python3.9/site-packages/sklearn/preprocessing/_label.py:97: DataConversionWarning: A column-vector y was passed when a 1d array was expected. Please change the shape of y to (n_samples, ), for example using ravel().\n",
      "  y = column_or_1d(y, warn=True)\n",
      "/home/rita/TRUST_AI/trustframework/trustCE/trustce/lib/python3.9/site-packages/sklearn/preprocessing/_label.py:97: DataConversionWarning: A column-vector y was passed when a 1d array was expected. Please change the shape of y to (n_samples, ), for example using ravel().\n",
      "  y = column_or_1d(y, warn=True)\n",
      "/home/rita/TRUST_AI/trustframework/trustCE/trustce/lib/python3.9/site-packages/sklearn/preprocessing/_label.py:97: DataConversionWarning: A column-vector y was passed when a 1d array was expected. Please change the shape of y to (n_samples, ), for example using ravel().\n",
      "  y = column_or_1d(y, warn=True)\n",
      "/home/rita/TRUST_AI/trustframework/trustCE/trustce/lib/python3.9/site-packages/sklearn/base.py:348: InconsistentVersionWarning: Trying to unpickle estimator LogisticRegression from version 1.2.2 when using version 1.3.1. This might lead to breaking code or invalid results. Use at your own risk. For more info please refer to:\n",
      "https://scikit-learn.org/stable/model_persistence.html#security-maintainability-limitations\n",
      "  warnings.warn(\n",
      "/home/rita/TRUST_AI/trustframework/trustCE/trustce/lib/python3.9/site-packages/sklearn/base.py:465: UserWarning: X does not have valid feature names, but LogisticRegression was fitted with feature names\n",
      "  warnings.warn(\n"
     ]
    }
   ],
   "source": [
    "data = Dataset(config.get_config_value(\"dataset\"), \"Loan_Status\")\n",
    "normalization_transformer = Transformer(data, config)\n",
    "instance_factory = InstanceFactory(data)\n",
    "sampler = CEInstanceSampler(config, normalization_transformer, instance_factory)\n",
    "\n",
    "model = ExplainableModel(config.get_config_value(\"model\"))"
   ]
  },
  {
   "cell_type": "markdown",
   "metadata": {},
   "source": [
    "## Finding Counterfactuals\n",
    "With everything set up, we'll now search for counterfactuals for our sample instance using the CFsearch object."
   ]
  },
  {
   "cell_type": "code",
   "execution_count": 5,
   "metadata": {},
   "outputs": [],
   "source": [
    "# Create a CFsearch object\n",
    "config_for_cfsearch = config.get_config_value(\"cfsearch\")\n",
    "search = CFsearch(normalization_transformer, model, sampler, config,\n",
    "                  algorithm=config_for_cfsearch[\"optimizer\"], \n",
    "                  distance_continuous=config_for_cfsearch[\"continuous_distance\"], \n",
    "                  distance_categorical=config_for_cfsearch[\"categorical_distance\"], \n",
    "                  loss_type=config_for_cfsearch[\"loss_type\"], \n",
    "                  coherence=config_for_cfsearch[\"coherence\"],\n",
    "                  objective_function_weights=config_for_cfsearch[\"objective_function_weights\"])\n",
    "\n",
    "# Load target instance and find counterfactuals\n",
    "with open(target_instance_json, 'r') as file:\n",
    "    target_instance_json_content = file.read()\n",
    "\n",
    "target_instance = instance_factory.create_instance_from_json(target_instance_json_content)"
   ]
  },
  {
   "cell_type": "code",
   "execution_count": 6,
   "metadata": {},
   "outputs": [
    {
     "name": "stdout",
     "output_type": "stream",
     "text": [
      "Label encoder:  Male  for feature  Gender\n",
      "Label encoder:  Yes  for feature  Married\n",
      "Label encoder:  2  for feature  Dependents\n",
      "Label encoder:  Graduate  for feature  Education\n",
      "Label encoder:  No  for feature  Self_Employed\n",
      "Label encoder:  Urban  for feature  Property_Area\n",
      "Label encoder:  1.0  for feature  Credit_History\n"
     ]
    }
   ],
   "source": [
    "counterfactuals = search.find_counterfactuals(target_instance, 1, \"opposite\", 50)"
   ]
  },
  {
   "cell_type": "markdown",
   "metadata": {},
   "source": [
    "## Evaluation and Visualization\n",
    "Once the counterfactuals are generated, it's crucial to evaluate and visualize them. This helps in understanding how the counterfactuals differ from the original instance and assessing their quality."
   ]
  },
  {
   "cell_type": "code",
   "execution_count": 7,
   "metadata": {},
   "outputs": [
    {
     "name": "stdout",
     "output_type": "stream",
     "text": [
      "Feature ApplicantIncome changed its value from -0.13149591358318327 to 7.048360574578692\n",
      "Feature CoapplicantIncome changed its value from -0.548056854219573 to 4.19365367062453\n",
      "Feature LoanAmount changed its value from -0.15222625083722335 to 1.6498903038095103\n",
      "Feature Loan_Amount_Term changed its value from 0.27283157074447584 to 1.0887094906885637\n",
      "Feature Gender changed its value from 1 to 0\n",
      "Feature Married changed its value from 1 to 1\n",
      "Feature Dependents changed its value from 2 to 1\n",
      "Feature Education changed its value from 0 to 0\n",
      "Feature Self_Employed changed its value from 0 to 0\n",
      "Feature Property_Area changed its value from 2 to 1\n",
      "Feature Credit_History changed its value from 1 to 1\n",
      "CF instance:  {'Gender': 0, 'Married': 1, 'Dependents': 1, 'Education': 0, 'Self_Employed': 0, 'Property_Area': 1, 'Credit_History': 1, 'ApplicantIncome': 7.048360574578692, 'CoapplicantIncome': 4.19365367062453, 'LoanAmount': 1.6498903038095103, 'Loan_Amount_Term': 1.0887094906885637}\n",
      "Distance continuous:  14.539561487596801\n",
      "Distance categorical:  3\n",
      "Sparsity continuous:  4\n",
      "Sparsity categorical:  3\n",
      "Validity:  False\n",
      "Coherence:  0.36363636363636365  incoherent features are  ['ApplicantIncome', 'Dependents', 'Property_Area']\n",
      "Query instance (original outcome : 0)\n"
     ]
    },
    {
     "data": {
      "text/html": [
       "<div>\n",
       "<style scoped>\n",
       "    .dataframe tbody tr th:only-of-type {\n",
       "        vertical-align: middle;\n",
       "    }\n",
       "\n",
       "    .dataframe tbody tr th {\n",
       "        vertical-align: top;\n",
       "    }\n",
       "\n",
       "    .dataframe thead th {\n",
       "        text-align: right;\n",
       "    }\n",
       "</style>\n",
       "<table border=\"1\" class=\"dataframe\">\n",
       "  <thead>\n",
       "    <tr style=\"text-align: right;\">\n",
       "      <th></th>\n",
       "      <th>Gender</th>\n",
       "      <th>Married</th>\n",
       "      <th>Dependents</th>\n",
       "      <th>Education</th>\n",
       "      <th>Self_Employed</th>\n",
       "      <th>Property_Area</th>\n",
       "      <th>Credit_History</th>\n",
       "      <th>ApplicantIncome</th>\n",
       "      <th>CoapplicantIncome</th>\n",
       "      <th>LoanAmount</th>\n",
       "      <th>Loan_Amount_Term</th>\n",
       "    </tr>\n",
       "  </thead>\n",
       "  <tbody>\n",
       "    <tr>\n",
       "      <th>0</th>\n",
       "      <td>1</td>\n",
       "      <td>1</td>\n",
       "      <td>2</td>\n",
       "      <td>0</td>\n",
       "      <td>0</td>\n",
       "      <td>2</td>\n",
       "      <td>1</td>\n",
       "      <td>-0.131496</td>\n",
       "      <td>-0.548057</td>\n",
       "      <td>-0.152226</td>\n",
       "      <td>0.272832</td>\n",
       "    </tr>\n",
       "  </tbody>\n",
       "</table>\n",
       "</div>"
      ],
      "text/plain": [
       "   Gender  Married  Dependents  Education  Self_Employed  Property_Area  \\\n",
       "0       1        1           2          0              0              2   \n",
       "\n",
       "   Credit_History  ApplicantIncome  CoapplicantIncome  LoanAmount  \\\n",
       "0               1        -0.131496          -0.548057   -0.152226   \n",
       "\n",
       "   Loan_Amount_Term  \n",
       "0          0.272832  "
      ]
     },
     "metadata": {},
     "output_type": "display_data"
    },
    {
     "name": "stdout",
     "output_type": "stream",
     "text": [
      "\n",
      "Counterfactual set (new outcome: 0)\n"
     ]
    },
    {
     "data": {
      "text/html": [
       "<div>\n",
       "<style scoped>\n",
       "    .dataframe tbody tr th:only-of-type {\n",
       "        vertical-align: middle;\n",
       "    }\n",
       "\n",
       "    .dataframe tbody tr th {\n",
       "        vertical-align: top;\n",
       "    }\n",
       "\n",
       "    .dataframe thead th {\n",
       "        text-align: right;\n",
       "    }\n",
       "</style>\n",
       "<table border=\"1\" class=\"dataframe\">\n",
       "  <thead>\n",
       "    <tr style=\"text-align: right;\">\n",
       "      <th></th>\n",
       "      <th>Gender</th>\n",
       "      <th>Married</th>\n",
       "      <th>Dependents</th>\n",
       "      <th>Education</th>\n",
       "      <th>Self_Employed</th>\n",
       "      <th>Property_Area</th>\n",
       "      <th>Credit_History</th>\n",
       "      <th>ApplicantIncome</th>\n",
       "      <th>CoapplicantIncome</th>\n",
       "      <th>LoanAmount</th>\n",
       "      <th>Loan_Amount_Term</th>\n",
       "    </tr>\n",
       "  </thead>\n",
       "  <tbody>\n",
       "    <tr>\n",
       "      <th>0</th>\n",
       "      <td>0</td>\n",
       "      <td>-</td>\n",
       "      <td>1</td>\n",
       "      <td>-</td>\n",
       "      <td>-</td>\n",
       "      <td>1</td>\n",
       "      <td>-</td>\n",
       "      <td>7.048360574578692</td>\n",
       "      <td>4.19365367062453</td>\n",
       "      <td>1.6498903038095103</td>\n",
       "      <td>1.0887094906885637</td>\n",
       "    </tr>\n",
       "  </tbody>\n",
       "</table>\n",
       "</div>"
      ],
      "text/plain": [
       "  Gender Married Dependents Education Self_Employed Property_Area  \\\n",
       "0      0       -          1         -             -             1   \n",
       "\n",
       "  Credit_History    ApplicantIncome CoapplicantIncome          LoanAmount  \\\n",
       "0              -  7.048360574578692  4.19365367062453  1.6498903038095103   \n",
       "\n",
       "     Loan_Amount_Term  \n",
       "0  1.0887094906885637  "
      ]
     },
     "metadata": {},
     "output_type": "display_data"
    },
    {
     "data": {
      "text/plain": [
       "None"
      ]
     },
     "metadata": {},
     "output_type": "display_data"
    }
   ],
   "source": [
    "# Evaluate and visualize the counterfactuals\n",
    "search.evaluate_counterfactuals(target_instance, counterfactuals)\n",
    "\n",
    "# Display the counterfactuals and original instance in the notebook\n",
    "display_df = search.visualize_as_dataframe(target_instance, counterfactuals)\n",
    "display(display_df)"
   ]
  },
  {
   "cell_type": "markdown",
   "metadata": {},
   "source": [
    "## Storing the Results\n",
    "For reproducibility and further analysis, we'll store the counterfactuals and their evaluations in designated folders."
   ]
  },
  {
   "cell_type": "code",
   "execution_count": 8,
   "metadata": {},
   "outputs": [],
   "source": [
    "# Store results\n",
    "search.store_counterfactuals(config.get_config_value(\"output_folder\"), \"first_test\")\n",
    "search.store_evaluations(config.get_config_value(\"output_folder\"), \"first_eval\")"
   ]
  },
  {
   "cell_type": "code",
   "execution_count": null,
   "metadata": {},
   "outputs": [],
   "source": []
  },
  {
   "cell_type": "code",
   "execution_count": null,
   "metadata": {},
   "outputs": [],
   "source": []
  }
 ],
 "metadata": {
  "kernelspec": {
   "display_name": "trustce",
   "language": "python",
   "name": "python3"
  },
  "language_info": {
   "codemirror_mode": {
    "name": "ipython",
    "version": 3
   },
   "file_extension": ".py",
   "mimetype": "text/x-python",
   "name": "python",
   "nbconvert_exporter": "python",
   "pygments_lexer": "ipython3",
   "version": "3.9.16"
  }
 },
 "nbformat": 4,
 "nbformat_minor": 2
}
