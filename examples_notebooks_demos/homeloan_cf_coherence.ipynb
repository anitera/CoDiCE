{
 "cells": [
  {
   "cell_type": "markdown",
   "metadata": {},
   "source": [
    "## Setting Up and Importing Libraries\n",
    "In this step, we'll import the necessary libraries and modules. We'll also ensure the correct path is set to access our custom modules."
   ]
  },
  {
   "cell_type": "code",
   "execution_count": 1,
   "metadata": {},
   "outputs": [],
   "source": [
    "# Import necessary libraries\n",
    "import pandas as pd\n",
    "import os\n",
    "import sys\n",
    "import json\n"
   ]
  },
  {
   "cell_type": "code",
   "execution_count": 2,
   "metadata": {},
   "outputs": [
    {
     "name": "stdout",
     "output_type": "stream",
     "text": [
      "/home/rita/TRUST_AI/trustframework/trustCE\n"
     ]
    }
   ],
   "source": [
    "# Going back to the root directory to make sure that we execute from trustCE folder\n",
    "os.chdir(os.path.join(os.getcwd(), '..'))\n",
    "print(os.getcwd())"
   ]
  },
  {
   "cell_type": "code",
   "execution_count": 3,
   "metadata": {},
   "outputs": [],
   "source": [
    "from trustce.cfsearch import CFsearch\n",
    "from trustce.dataset import Dataset\n",
    "from trustce.cemodels.base_model import BaseModel\n",
    "from trustce.cemodels.sklearn_model import SklearnModel\n",
    "from trustce.ceinstance.instance_sampler import CEInstanceSampler\n",
    "from trustce.config import Config\n",
    "from trustce.transformer import Transformer\n",
    "from trustce.ceinstance.instance_factory import InstanceFactory\n",
    "from trustce import load_datasets"
   ]
  },
  {
   "cell_type": "markdown",
   "metadata": {},
   "source": [
    "## Loading Configuration\n",
    "Here, we'll load our configuration files which dictate various parameters for our counterfactual search. It includes dataset details, feature management, and other related configurations."
   ]
  },
  {
   "cell_type": "code",
   "execution_count": 4,
   "metadata": {},
   "outputs": [
    {
     "name": "stdout",
     "output_type": "stream",
     "text": [
      "Configuration Loaded:\n",
      "<trustce.config.Config object at 0x7f4e673814e0>\n"
     ]
    }
   ],
   "source": [
    "# Load configuration\n",
    "config_file_path = \"config/conf_homeloan_coherence.yaml\"\n",
    "config = Config(config_file_path)\n",
    "\n",
    "with open(\"config/constraints_homeloan_ch.json\", 'r') as file:\n",
    "    constraints = json.load(file)\n",
    "\n",
    "print(\"Configuration Loaded:\")\n",
    "print(config)"
   ]
  },
  {
   "cell_type": "markdown",
   "metadata": {},
   "source": [
    "## Preparing Dataset and Model\n",
    "In this section, we initialize our dataset, model, and the required transformers. We'll also define a sample instance for which we wish to find the counterfactuals."
   ]
  },
  {
   "cell_type": "code",
   "execution_count": 5,
   "metadata": {},
   "outputs": [],
   "source": [
    "# Load the dataset and set up the necessary objects\n",
    "load_datasets.download(\"homeloan\")"
   ]
  },
  {
   "cell_type": "code",
   "execution_count": 6,
   "metadata": {},
   "outputs": [
    {
     "name": "stdout",
     "output_type": "stream",
     "text": [
      "Features verified\n",
      "Continious features: ['ApplicantIncome', 'CoapplicantIncome', 'LoanAmount', 'Loan_Amount_Term']\n",
      "Categorical features: ['Gender', 'Married', 'Dependents', 'Education', 'Self_Employed', 'Property_Area', 'Credit_History']\n",
      "Dataset preprocessed\n"
     ]
    },
    {
     "name": "stderr",
     "output_type": "stream",
     "text": [
      "/home/rita/miniconda3/envs/demo_trustce/lib/python3.10/site-packages/sklearn/preprocessing/_label.py:97: DataConversionWarning: A column-vector y was passed when a 1d array was expected. Please change the shape of y to (n_samples, ), for example using ravel().\n",
      "  y = column_or_1d(y, warn=True)\n",
      "/home/rita/miniconda3/envs/demo_trustce/lib/python3.10/site-packages/sklearn/preprocessing/_label.py:97: DataConversionWarning: A column-vector y was passed when a 1d array was expected. Please change the shape of y to (n_samples, ), for example using ravel().\n",
      "  y = column_or_1d(y, warn=True)\n",
      "/home/rita/miniconda3/envs/demo_trustce/lib/python3.10/site-packages/sklearn/preprocessing/_label.py:97: DataConversionWarning: A column-vector y was passed when a 1d array was expected. Please change the shape of y to (n_samples, ), for example using ravel().\n",
      "  y = column_or_1d(y, warn=True)\n",
      "/home/rita/miniconda3/envs/demo_trustce/lib/python3.10/site-packages/sklearn/preprocessing/_label.py:97: DataConversionWarning: A column-vector y was passed when a 1d array was expected. Please change the shape of y to (n_samples, ), for example using ravel().\n",
      "  y = column_or_1d(y, warn=True)\n",
      "/home/rita/miniconda3/envs/demo_trustce/lib/python3.10/site-packages/sklearn/preprocessing/_label.py:97: DataConversionWarning: A column-vector y was passed when a 1d array was expected. Please change the shape of y to (n_samples, ), for example using ravel().\n",
      "  y = column_or_1d(y, warn=True)\n",
      "/home/rita/miniconda3/envs/demo_trustce/lib/python3.10/site-packages/sklearn/preprocessing/_label.py:97: DataConversionWarning: A column-vector y was passed when a 1d array was expected. Please change the shape of y to (n_samples, ), for example using ravel().\n",
      "  y = column_or_1d(y, warn=True)\n",
      "/home/rita/miniconda3/envs/demo_trustce/lib/python3.10/site-packages/sklearn/preprocessing/_label.py:97: DataConversionWarning: A column-vector y was passed when a 1d array was expected. Please change the shape of y to (n_samples, ), for example using ravel().\n",
      "  y = column_or_1d(y, warn=True)\n"
     ]
    },
    {
     "name": "stdout",
     "output_type": "stream",
     "text": [
      " MAD for feature %s is 0, so replacing it with 1.0 to avoid error. Loan_Amount_Term\n",
      "Feature: Married\n",
      "Range: [0, 1]\n",
      "Feature: Property_Area\n",
      "Range: [0, 2]\n",
      "Feature: ApplicantIncome\n",
      "Range: [-0.8484208485011338, 12.130392628461765]\n",
      "Feature: Dependents\n",
      "Range: [0, 3]\n",
      "Feature: Self_Employed\n",
      "Range: [0, 1]\n",
      "Feature: Loan_Amount_Term\n",
      "Range: [-5.044846090672822, 2.106513522957335]\n",
      "Feature: Credit_History\n",
      "Range: [0, 1]\n",
      "Feature: Education\n",
      "Range: [0, 1]\n",
      "Feature: CoapplicantIncome\n",
      "Range: [-0.5480568542195732, 13.372167288446013]\n",
      "Feature: LoanAmount\n",
      "Range: [-1.5999485916282457, 6.4030605082645256]\n",
      "Feature: Gender\n",
      "Range: [0, 1]\n",
      "Constraint Type: immutable\n",
      "Sanity check for model\n",
      "Model input shape is  11\n",
      "Sanity check prediciton  [1]\n"
     ]
    },
    {
     "name": "stderr",
     "output_type": "stream",
     "text": [
      "/home/rita/miniconda3/envs/demo_trustce/lib/python3.10/site-packages/sklearn/base.py:348: InconsistentVersionWarning: Trying to unpickle estimator LogisticRegression from version 1.2.2 when using version 1.3.1. This might lead to breaking code or invalid results. Use at your own risk. For more info please refer to:\n",
      "https://scikit-learn.org/stable/model_persistence.html#security-maintainability-limitations\n",
      "  warnings.warn(\n",
      "/home/rita/miniconda3/envs/demo_trustce/lib/python3.10/site-packages/sklearn/base.py:465: UserWarning: X does not have valid feature names, but LogisticRegression was fitted with feature names\n",
      "  warnings.warn(\n",
      "/home/rita/miniconda3/envs/demo_trustce/lib/python3.10/site-packages/sklearn/base.py:465: UserWarning: X does not have valid feature names, but LogisticRegression was fitted with feature names\n",
      "  warnings.warn(\n"
     ]
    }
   ],
   "source": [
    "data = Dataset(config.get_config_value(\"dataset\"), \"Loan_Status\")\n",
    "normalization_transformer = Transformer(data, config)\n",
    "instance_factory = InstanceFactory(data)\n",
    "sampler = CEInstanceSampler(config, normalization_transformer, instance_factory)\n",
    "\n",
    "model = SklearnModel(config.get_config_value(\"model\"))"
   ]
  },
  {
   "cell_type": "markdown",
   "metadata": {},
   "source": [
    "## Finding Counterfactuals\n",
    "With everything set up, we'll now search for counterfactuals for our sample instance using the CFsearch object."
   ]
  },
  {
   "cell_type": "code",
   "execution_count": 7,
   "metadata": {},
   "outputs": [],
   "source": [
    "# Set the target instance path\n",
    "target_instance_json = \"input_instance/instance.json\""
   ]
  },
  {
   "cell_type": "code",
   "execution_count": 8,
   "metadata": {},
   "outputs": [],
   "source": [
    "# Create a CFsearch object\n",
    "config_for_cfsearch = config.get_config_value(\"cfsearch\")\n",
    "search = CFsearch(normalization_transformer, model, sampler, config,\n",
    "                  optimizer_name=config_for_cfsearch[\"optimizer\"], \n",
    "                  distance_continuous=config_for_cfsearch[\"continuous_distance\"], \n",
    "                  distance_categorical=config_for_cfsearch[\"categorical_distance\"], \n",
    "                  loss_type=config_for_cfsearch[\"loss_type\"], \n",
    "                  coherence=config_for_cfsearch[\"coherence\"],\n",
    "                  objective_function_weights=config_for_cfsearch[\"objective_function_weights\"])\n",
    "\n",
    "# Load target instance and find counterfactuals\n",
    "with open(target_instance_json, 'r') as file:\n",
    "    target_instance_json_content = file.read()\n",
    "\n",
    "target_instance = instance_factory.create_instance_from_json(target_instance_json_content)"
   ]
  },
  {
   "cell_type": "code",
   "execution_count": 9,
   "metadata": {},
   "outputs": [
    {
     "name": "stdout",
     "output_type": "stream",
     "text": [
      "Label encoder:  Male  for feature  Gender  is transformed into  1\n",
      "Label encoder:  Yes  for feature  Married  is transformed into  1\n",
      "Label encoder:  2  for feature  Dependents  is transformed into  2\n",
      "Label encoder:  Graduate  for feature  Education  is transformed into  0\n",
      "Label encoder:  No  for feature  Self_Employed  is transformed into  0\n",
      "Label encoder:  Urban  for feature  Property_Area  is transformed into  2\n",
      "Label encoder:  1.0  for feature  Credit_History  is transformed into  1\n",
      "Valid counterfactuals were found:  {'Gender': 1, 'Married': 1, 'Dependents': 2, 'Education': 0, 'Self_Employed': 0, 'Property_Area': 2, 'Credit_History': 1, 'ApplicantIncome': 7.619454021865378, 'CoapplicantIncome': 14.15611744060467, 'LoanAmount': 0.05610433455803467, 'Loan_Amount_Term': 0.5913834794718836}\n"
     ]
    }
   ],
   "source": [
    "counterfactuals = search.find_counterfactuals(target_instance, number_cf=1, desired_class=\"opposite\", maxiterations=50)"
   ]
  },
  {
   "cell_type": "markdown",
   "metadata": {},
   "source": []
  },
  {
   "cell_type": "markdown",
   "metadata": {},
   "source": [
    "## Evaluation and Visualization\n",
    "Once the counterfactuals are generated, it's crucial to evaluate and visualize them. This helps in understanding how the counterfactuals differ from the original instance and assessing their quality."
   ]
  },
  {
   "cell_type": "code",
   "execution_count": 10,
   "metadata": {},
   "outputs": [
    {
     "name": "stdout",
     "output_type": "stream",
     "text": [
      "Feature ApplicantIncome changed its value from -0.13149591358318322 to 7.619454021865378\n",
      "probability_sign: [ 1. -1.], type: <class 'numpy.ndarray'>\n",
      "required_label: 0, type: <class 'numpy.int64'>\n",
      "Modified required_label: 0, type: <class 'numpy.int64'>\n",
      "Feature CoapplicantIncome changed its value from -0.5480568542195732 to 14.15611744060467\n",
      "probability_sign: [-1.  1.], type: <class 'numpy.ndarray'>\n",
      "required_label: 0, type: <class 'numpy.int64'>\n",
      "Modified required_label: 0, type: <class 'numpy.int64'>\n",
      "Feature LoanAmount changed its value from -0.15222625083722335 to 0.05610433455803467\n",
      "probability_sign: [ 1. -1.], type: <class 'numpy.ndarray'>\n",
      "required_label: 0, type: <class 'numpy.int64'>\n",
      "Modified required_label: 0, type: <class 'numpy.int64'>\n",
      "Feature Loan_Amount_Term changed its value from 0.2728315707444741 to 0.5913834794718836\n",
      "probability_sign: [-1.  1.], type: <class 'numpy.ndarray'>\n",
      "required_label: 0, type: <class 'numpy.int64'>\n",
      "Modified required_label: 0, type: <class 'numpy.int64'>\n",
      "Feature Gender changed its value from 1 to 1\n",
      "probability_sign: [0. 0.], type: <class 'numpy.ndarray'>\n",
      "required_label: 0, type: <class 'numpy.int64'>\n",
      "Modified required_label: 0, type: <class 'numpy.int64'>\n",
      "Feature Married changed its value from 1 to 1\n",
      "probability_sign: [0. 0.], type: <class 'numpy.ndarray'>\n",
      "required_label: 0, type: <class 'numpy.int64'>\n",
      "Modified required_label: 0, type: <class 'numpy.int64'>\n",
      "Feature Dependents changed its value from 2 to 2\n",
      "probability_sign: [0. 0.], type: <class 'numpy.ndarray'>\n",
      "required_label: 0, type: <class 'numpy.int64'>\n",
      "Modified required_label: 0, type: <class 'numpy.int64'>\n",
      "Feature Education changed its value from 0 to 0\n",
      "probability_sign: [0. 0.], type: <class 'numpy.ndarray'>\n",
      "required_label: 0, type: <class 'numpy.int64'>\n",
      "Modified required_label: 0, type: <class 'numpy.int64'>\n",
      "Feature Self_Employed changed its value from 0 to 0\n",
      "probability_sign: [0. 0.], type: <class 'numpy.ndarray'>\n",
      "required_label: 0, type: <class 'numpy.int64'>\n",
      "Modified required_label: 0, type: <class 'numpy.int64'>\n",
      "Feature Property_Area changed its value from 2 to 2\n",
      "probability_sign: [0. 0.], type: <class 'numpy.ndarray'>\n",
      "required_label: 0, type: <class 'numpy.int64'>\n",
      "Modified required_label: 0, type: <class 'numpy.int64'>\n",
      "Feature Credit_History changed its value from 1 to 1\n",
      "probability_sign: [0. 0.], type: <class 'numpy.ndarray'>\n",
      "required_label: 0, type: <class 'numpy.int64'>\n",
      "Modified required_label: 0, type: <class 'numpy.int64'>\n",
      "CF instance:  {'Gender': 1, 'Married': 1, 'Dependents': 2, 'Education': 0, 'Self_Employed': 0, 'Property_Area': 2, 'Credit_History': 1, 'ApplicantIncome': 7.619454021865378, 'CoapplicantIncome': 14.15611744060467, 'LoanAmount': 0.05610433455803467, 'Loan_Amount_Term': 0.5913834794718836}\n",
      "Distance continuous:  2.2037122905567146e-06\n",
      "Distance categorical:  0\n",
      "Sparsity continuous:  4\n",
      "Sparsity categorical:  0\n",
      "Validity:  True\n",
      "Coherence:  0.18181818181818182  incoherent features are  ['CoapplicantIncome', 'Loan_Amount_Term']\n",
      "Query instance (original outcome : 1)\n"
     ]
    },
    {
     "data": {
      "text/html": [
       "<div>\n",
       "<style scoped>\n",
       "    .dataframe tbody tr th:only-of-type {\n",
       "        vertical-align: middle;\n",
       "    }\n",
       "\n",
       "    .dataframe tbody tr th {\n",
       "        vertical-align: top;\n",
       "    }\n",
       "\n",
       "    .dataframe thead th {\n",
       "        text-align: right;\n",
       "    }\n",
       "</style>\n",
       "<table border=\"1\" class=\"dataframe\">\n",
       "  <thead>\n",
       "    <tr style=\"text-align: right;\">\n",
       "      <th></th>\n",
       "      <th>Gender</th>\n",
       "      <th>Married</th>\n",
       "      <th>Dependents</th>\n",
       "      <th>Education</th>\n",
       "      <th>Self_Employed</th>\n",
       "      <th>Property_Area</th>\n",
       "      <th>Credit_History</th>\n",
       "      <th>ApplicantIncome</th>\n",
       "      <th>CoapplicantIncome</th>\n",
       "      <th>LoanAmount</th>\n",
       "      <th>Loan_Amount_Term</th>\n",
       "    </tr>\n",
       "  </thead>\n",
       "  <tbody>\n",
       "    <tr>\n",
       "      <th>0</th>\n",
       "      <td>Male</td>\n",
       "      <td>Yes</td>\n",
       "      <td>2</td>\n",
       "      <td>Graduate</td>\n",
       "      <td>No</td>\n",
       "      <td>Urban</td>\n",
       "      <td>1.0</td>\n",
       "      <td>4616.0</td>\n",
       "      <td>2.273737e-13</td>\n",
       "      <td>134.0</td>\n",
       "      <td>360.0</td>\n",
       "    </tr>\n",
       "  </tbody>\n",
       "</table>\n",
       "</div>"
      ],
      "text/plain": [
       "  Gender Married Dependents Education Self_Employed Property_Area  \\\n",
       "0   Male     Yes          2  Graduate            No         Urban   \n",
       "\n",
       "   Credit_History  ApplicantIncome  CoapplicantIncome  LoanAmount  \\\n",
       "0             1.0           4616.0       2.273737e-13       134.0   \n",
       "\n",
       "   Loan_Amount_Term  \n",
       "0             360.0  "
      ]
     },
     "metadata": {},
     "output_type": "display_data"
    },
    {
     "name": "stdout",
     "output_type": "stream",
     "text": [
      "\n",
      "Counterfactual set (new outcome: [0])\n"
     ]
    },
    {
     "data": {
      "text/html": [
       "<div>\n",
       "<style scoped>\n",
       "    .dataframe tbody tr th:only-of-type {\n",
       "        vertical-align: middle;\n",
       "    }\n",
       "\n",
       "    .dataframe tbody tr th {\n",
       "        vertical-align: top;\n",
       "    }\n",
       "\n",
       "    .dataframe thead th {\n",
       "        text-align: right;\n",
       "    }\n",
       "</style>\n",
       "<table border=\"1\" class=\"dataframe\">\n",
       "  <thead>\n",
       "    <tr style=\"text-align: right;\">\n",
       "      <th></th>\n",
       "      <th>Gender</th>\n",
       "      <th>Married</th>\n",
       "      <th>Dependents</th>\n",
       "      <th>Education</th>\n",
       "      <th>Self_Employed</th>\n",
       "      <th>Property_Area</th>\n",
       "      <th>Credit_History</th>\n",
       "      <th>ApplicantIncome</th>\n",
       "      <th>CoapplicantIncome</th>\n",
       "      <th>LoanAmount</th>\n",
       "      <th>Loan_Amount_Term</th>\n",
       "    </tr>\n",
       "  </thead>\n",
       "  <tbody>\n",
       "    <tr>\n",
       "      <th>0</th>\n",
       "      <td>-</td>\n",
       "      <td>-</td>\n",
       "      <td>-</td>\n",
       "      <td>-</td>\n",
       "      <td>-</td>\n",
       "      <td>-</td>\n",
       "      <td>-</td>\n",
       "      <td>52899.635741690196</td>\n",
       "      <td>44013.575073448475</td>\n",
       "      <td>151.98778843198517</td>\n",
       "      <td>380.8467062683135</td>\n",
       "    </tr>\n",
       "  </tbody>\n",
       "</table>\n",
       "</div>"
      ],
      "text/plain": [
       "  Gender Married Dependents Education Self_Employed Property_Area  \\\n",
       "0      -       -          -         -             -             -   \n",
       "\n",
       "  Credit_History     ApplicantIncome   CoapplicantIncome          LoanAmount  \\\n",
       "0              -  52899.635741690196  44013.575073448475  151.98778843198517   \n",
       "\n",
       "    Loan_Amount_Term  \n",
       "0  380.8467062683135  "
      ]
     },
     "metadata": {},
     "output_type": "display_data"
    }
   ],
   "source": [
    "# Evaluate and visualize the counterfactuals\n",
    "search.evaluate_counterfactuals(target_instance, counterfactuals)\n",
    "\n",
    "# Display the counterfactuals and original instance in the notebook\n",
    "display_df = search.visualize_as_dataframe(target_instance, counterfactuals)"
   ]
  },
  {
   "cell_type": "markdown",
   "metadata": {},
   "source": [
    "## Storing the Results\n",
    "For reproducibility and further analysis, we'll store the counterfactuals and their evaluations in designated folders."
   ]
  },
  {
   "cell_type": "code",
   "execution_count": 11,
   "metadata": {},
   "outputs": [
    {
     "name": "stdout",
     "output_type": "stream",
     "text": [
      "Store counterfactuals to  results/homeloan_first_test_0.json\n",
      "Store counterfactuals evaluation to  results/homeloan_first_eval_eval_0.json\n"
     ]
    }
   ],
   "source": [
    "# Store results\n",
    "search.store_counterfactuals(config.get_config_value(\"output_folder\"), \"homeloan_first_test\")\n",
    "search.store_evaluations(config.get_config_value(\"output_folder\"), \"homeloan_first_eval\")"
   ]
  },
  {
   "cell_type": "code",
   "execution_count": null,
   "metadata": {},
   "outputs": [],
   "source": []
  },
  {
   "cell_type": "code",
   "execution_count": null,
   "metadata": {},
   "outputs": [],
   "source": []
  }
 ],
 "metadata": {
  "kernelspec": {
   "display_name": "trustce",
   "language": "python",
   "name": "python3"
  },
  "language_info": {
   "codemirror_mode": {
    "name": "ipython",
    "version": 3
   },
   "file_extension": ".py",
   "mimetype": "text/x-python",
   "name": "python",
   "nbconvert_exporter": "python",
   "pygments_lexer": "ipython3",
   "version": "3.10.13"
  }
 },
 "nbformat": 4,
 "nbformat_minor": 2
}
