{
 "cells": [
  {
   "cell_type": "markdown",
   "metadata": {},
   "source": [
    "## Setting Up and Importing Libraries\n",
    "In this step, we'll import the necessary libraries and modules. We'll also ensure the correct path is set to access our custom modules."
   ]
  },
  {
   "cell_type": "code",
   "execution_count": 1,
   "metadata": {},
   "outputs": [
    {
     "name": "stdout",
     "output_type": "stream",
     "text": [
      "/home/rita/TRUST_AI/trustframework/trustCE\n"
     ]
    }
   ],
   "source": [
    "# Import necessary libraries\n",
    "import pandas as pd\n",
    "import os\n",
    "import sys\n",
    "import json\n",
    "\n",
    "os.chdir(os.path.join(os.getcwd(), '..'))\n",
    "print(os.getcwd())\n",
    "\n",
    "from trustce.cfsearch import CFsearch\n",
    "from trustce.dataset import Dataset\n",
    "from trustce.explainable_model import ExplainableModel\n",
    "from trustce.ceinstance.instance_sampler import CEInstanceSampler\n",
    "from trustce.config import Config\n",
    "from trustce.transformer import Transformer\n",
    "from trustce.ceinstance.instance_factory import InstanceFactory\n",
    "from trustce import load_datasets"
   ]
  },
  {
   "cell_type": "markdown",
   "metadata": {},
   "source": [
    "## Loading Configuration\n",
    "Here, we'll load our configuration files which dictate various parameters for our counterfactual search. It includes dataset details, feature management, and other related configurations."
   ]
  },
  {
   "cell_type": "code",
   "execution_count": 2,
   "metadata": {},
   "outputs": [
    {
     "name": "stdout",
     "output_type": "stream",
     "text": [
      "Configuration Loaded:\n",
      "<trustce.config.Config object at 0x7f6792015b40>\n"
     ]
    }
   ],
   "source": [
    "# Load configuration\n",
    "config_file_path = \"config/conf.yaml\"\n",
    "config = Config(config_file_path)\n",
    "\n",
    "with open(\"config/constraints_conf.json\", 'r') as file:\n",
    "    constraints = json.load(file)\n",
    "\n",
    "print(\"Configuration Loaded:\")\n",
    "print(config)"
   ]
  },
  {
   "cell_type": "markdown",
   "metadata": {},
   "source": [
    "## Preparing Dataset and Model\n",
    "In this section, we initialize our dataset, model, and the required transformers. We'll also define a sample instance for which we wish to find the counterfactuals."
   ]
  },
  {
   "cell_type": "code",
   "execution_count": 3,
   "metadata": {},
   "outputs": [],
   "source": [
    "# Set the target instance path\n",
    "target_instance_json = \"input_instance/instance.json\"\n",
    "\n",
    "# Load the dataset and set up the necessary objects\n",
    "load_datasets.download(\"homeloan\")"
   ]
  },
  {
   "cell_type": "code",
   "execution_count": 4,
   "metadata": {},
   "outputs": [
    {
     "name": "stdout",
     "output_type": "stream",
     "text": [
      "Features verified\n",
      "Continious features: ['ApplicantIncome', 'CoapplicantIncome', 'LoanAmount', 'Loan_Amount_Term']\n",
      "Categorical features: ['Gender', 'Married', 'Dependents', 'Education', 'Self_Employed', 'Property_Area', 'Credit_History']\n",
      "Dataset preprocessed\n",
      "Feature: Dependents\n",
      "Range: [0, 3]\n",
      "Feature: CoapplicantIncome\n",
      "Range: [-0.548056854219573, 13.372167288446008]\n",
      "Feature: Credit_History\n",
      "Range: [0, 1]\n",
      "Feature: Self_Employed\n",
      "Range: [0, 1]\n",
      "Feature: Married\n",
      "Range: [0, 1]\n",
      "Feature: Property_Area\n",
      "Range: [0, 2]\n",
      "Feature: Education\n",
      "Range: [0, 1]\n",
      "Feature: ApplicantIncome\n",
      "Range: [-0.8484208485011342, 12.13039262846177]\n",
      "Feature: Loan_Amount_Term\n",
      "Range: [-5.044846090672854, 2.106513522957348]\n",
      "Feature: LoanAmount\n",
      "Range: [-1.5999485916282457, 6.4030605082645256]\n",
      "Feature: Gender\n",
      "Range: [0, 1]\n",
      "Constraint Type: immutable\n",
      "Sanity check for model\n",
      "Model input shape is  11\n"
     ]
    },
    {
     "name": "stderr",
     "output_type": "stream",
     "text": [
      "/home/rita/miniconda3/envs/demo_trustce/lib/python3.10/site-packages/sklearn/preprocessing/_label.py:97: DataConversionWarning: A column-vector y was passed when a 1d array was expected. Please change the shape of y to (n_samples, ), for example using ravel().\n",
      "  y = column_or_1d(y, warn=True)\n",
      "/home/rita/miniconda3/envs/demo_trustce/lib/python3.10/site-packages/sklearn/preprocessing/_label.py:97: DataConversionWarning: A column-vector y was passed when a 1d array was expected. Please change the shape of y to (n_samples, ), for example using ravel().\n",
      "  y = column_or_1d(y, warn=True)\n",
      "/home/rita/miniconda3/envs/demo_trustce/lib/python3.10/site-packages/sklearn/preprocessing/_label.py:97: DataConversionWarning: A column-vector y was passed when a 1d array was expected. Please change the shape of y to (n_samples, ), for example using ravel().\n",
      "  y = column_or_1d(y, warn=True)\n",
      "/home/rita/miniconda3/envs/demo_trustce/lib/python3.10/site-packages/sklearn/preprocessing/_label.py:97: DataConversionWarning: A column-vector y was passed when a 1d array was expected. Please change the shape of y to (n_samples, ), for example using ravel().\n",
      "  y = column_or_1d(y, warn=True)\n",
      "/home/rita/miniconda3/envs/demo_trustce/lib/python3.10/site-packages/sklearn/preprocessing/_label.py:97: DataConversionWarning: A column-vector y was passed when a 1d array was expected. Please change the shape of y to (n_samples, ), for example using ravel().\n",
      "  y = column_or_1d(y, warn=True)\n",
      "/home/rita/miniconda3/envs/demo_trustce/lib/python3.10/site-packages/sklearn/preprocessing/_label.py:97: DataConversionWarning: A column-vector y was passed when a 1d array was expected. Please change the shape of y to (n_samples, ), for example using ravel().\n",
      "  y = column_or_1d(y, warn=True)\n",
      "/home/rita/miniconda3/envs/demo_trustce/lib/python3.10/site-packages/sklearn/preprocessing/_label.py:97: DataConversionWarning: A column-vector y was passed when a 1d array was expected. Please change the shape of y to (n_samples, ), for example using ravel().\n",
      "  y = column_or_1d(y, warn=True)\n",
      "/home/rita/miniconda3/envs/demo_trustce/lib/python3.10/site-packages/sklearn/base.py:348: InconsistentVersionWarning: Trying to unpickle estimator LogisticRegression from version 1.2.2 when using version 1.3.1. This might lead to breaking code or invalid results. Use at your own risk. For more info please refer to:\n",
      "https://scikit-learn.org/stable/model_persistence.html#security-maintainability-limitations\n",
      "  warnings.warn(\n",
      "/home/rita/miniconda3/envs/demo_trustce/lib/python3.10/site-packages/sklearn/base.py:465: UserWarning: X does not have valid feature names, but LogisticRegression was fitted with feature names\n",
      "  warnings.warn(\n"
     ]
    }
   ],
   "source": [
    "data = Dataset(config.get_config_value(\"dataset\"), \"Loan_Status\")\n",
    "normalization_transformer = Transformer(data, config)\n",
    "instance_factory = InstanceFactory(data)\n",
    "sampler = CEInstanceSampler(config, normalization_transformer, instance_factory)\n",
    "\n",
    "model = ExplainableModel(config.get_config_value(\"model\"))"
   ]
  },
  {
   "cell_type": "markdown",
   "metadata": {},
   "source": [
    "## Finding Counterfactuals\n",
    "With everything set up, we'll now search for counterfactuals for our sample instance using the CFsearch object."
   ]
  },
  {
   "cell_type": "code",
   "execution_count": 5,
   "metadata": {},
   "outputs": [],
   "source": [
    "# Create a CFsearch object\n",
    "config_for_cfsearch = config.get_config_value(\"cfsearch\")\n",
    "search = CFsearch(normalization_transformer, model, sampler, config,\n",
    "                  algorithm=config_for_cfsearch[\"optimizer\"], \n",
    "                  distance_continuous=config_for_cfsearch[\"continuous_distance\"], \n",
    "                  distance_categorical=config_for_cfsearch[\"categorical_distance\"], \n",
    "                  loss_type=config_for_cfsearch[\"loss_type\"], \n",
    "                  coherence=config_for_cfsearch[\"coherence\"],\n",
    "                  objective_function_weights=config_for_cfsearch[\"objective_function_weights\"])\n",
    "\n",
    "# Load target instance and find counterfactuals\n",
    "with open(target_instance_json, 'r') as file:\n",
    "    target_instance_json_content = file.read()\n",
    "\n",
    "target_instance = instance_factory.create_instance_from_json(target_instance_json_content)"
   ]
  },
  {
   "cell_type": "code",
   "execution_count": 6,
   "metadata": {},
   "outputs": [
    {
     "name": "stdout",
     "output_type": "stream",
     "text": [
      "Label encoder:  Male  for feature  Gender  is transformed into  1\n",
      "Label encoder:  Yes  for feature  Married  is transformed into  1\n",
      "Label encoder:  2  for feature  Dependents  is transformed into  2\n",
      "Label encoder:  Graduate  for feature  Education  is transformed into  0\n",
      "Label encoder:  No  for feature  Self_Employed  is transformed into  0\n",
      "Label encoder:  Urban  for feature  Property_Area  is transformed into  2\n",
      "Label encoder:  1.0  for feature  Credit_History  is transformed into  1\n"
     ]
    }
   ],
   "source": [
    "counterfactuals = search.find_counterfactuals(target_instance, 1, \"opposite\", 50)"
   ]
  },
  {
   "cell_type": "markdown",
   "metadata": {},
   "source": []
  },
  {
   "cell_type": "markdown",
   "metadata": {},
   "source": [
    "## Evaluation and Visualization\n",
    "Once the counterfactuals are generated, it's crucial to evaluate and visualize them. This helps in understanding how the counterfactuals differ from the original instance and assessing their quality."
   ]
  },
  {
   "cell_type": "code",
   "execution_count": 7,
   "metadata": {},
   "outputs": [
    {
     "name": "stdout",
     "output_type": "stream",
     "text": [
      "Feature ApplicantIncome changed its value from -0.13149591358318327 to 11.099759171944967\n",
      "Feature CoapplicantIncome changed its value from -0.548056854219573 to 2.5793037163528263\n",
      "Feature LoanAmount changed its value from -0.15222625083722335 to 5.565758820602812\n",
      "Feature Loan_Amount_Term changed its value from 0.27283157074447584 to 1.5006657442735607\n",
      "Feature Gender changed its value from 1 to 0\n",
      "Feature Married changed its value from 1 to 0\n",
      "Feature Dependents changed its value from 2 to 0\n",
      "Feature Education changed its value from 0 to 1\n",
      "Feature Self_Employed changed its value from 0 to 0\n",
      "Feature Property_Area changed its value from 2 to 1\n",
      "Feature Credit_History changed its value from 1 to 1\n",
      "CF instance:  {'Gender': 0, 'Married': 0, 'Dependents': 0, 'Education': 1, 'Self_Employed': 0, 'Property_Area': 1, 'Credit_History': 1, 'ApplicantIncome': 11.099759171944967, 'CoapplicantIncome': 2.5793037163528263, 'LoanAmount': 5.565758820602812, 'Loan_Amount_Term': 1.5006657442735607}\n",
      "Distance continuous:  21.304434901069673\n",
      "Distance categorical:  5\n",
      "Sparsity continuous:  4\n",
      "Sparsity categorical:  5\n",
      "Validity:  True\n",
      "Coherence:  0.45454545454545453  incoherent features are  ['CoapplicantIncome', 'Loan_Amount_Term', 'Gender', 'Married']\n",
      "Query instance (original outcome : 1)\n"
     ]
    },
    {
     "data": {
      "text/html": [
       "<div>\n",
       "<style scoped>\n",
       "    .dataframe tbody tr th:only-of-type {\n",
       "        vertical-align: middle;\n",
       "    }\n",
       "\n",
       "    .dataframe tbody tr th {\n",
       "        vertical-align: top;\n",
       "    }\n",
       "\n",
       "    .dataframe thead th {\n",
       "        text-align: right;\n",
       "    }\n",
       "</style>\n",
       "<table border=\"1\" class=\"dataframe\">\n",
       "  <thead>\n",
       "    <tr style=\"text-align: right;\">\n",
       "      <th></th>\n",
       "      <th>Gender</th>\n",
       "      <th>Married</th>\n",
       "      <th>Dependents</th>\n",
       "      <th>Education</th>\n",
       "      <th>Self_Employed</th>\n",
       "      <th>Property_Area</th>\n",
       "      <th>Credit_History</th>\n",
       "      <th>ApplicantIncome</th>\n",
       "      <th>CoapplicantIncome</th>\n",
       "      <th>LoanAmount</th>\n",
       "      <th>Loan_Amount_Term</th>\n",
       "    </tr>\n",
       "  </thead>\n",
       "  <tbody>\n",
       "    <tr>\n",
       "      <th>0</th>\n",
       "      <td>1</td>\n",
       "      <td>1</td>\n",
       "      <td>2</td>\n",
       "      <td>0</td>\n",
       "      <td>0</td>\n",
       "      <td>2</td>\n",
       "      <td>1</td>\n",
       "      <td>-0.131496</td>\n",
       "      <td>-0.548057</td>\n",
       "      <td>-0.152226</td>\n",
       "      <td>0.272832</td>\n",
       "    </tr>\n",
       "  </tbody>\n",
       "</table>\n",
       "</div>"
      ],
      "text/plain": [
       "   Gender  Married  Dependents  Education  Self_Employed  Property_Area  \\\n",
       "0       1        1           2          0              0              2   \n",
       "\n",
       "   Credit_History  ApplicantIncome  CoapplicantIncome  LoanAmount  \\\n",
       "0               1        -0.131496          -0.548057   -0.152226   \n",
       "\n",
       "   Loan_Amount_Term  \n",
       "0          0.272832  "
      ]
     },
     "metadata": {},
     "output_type": "display_data"
    },
    {
     "name": "stdout",
     "output_type": "stream",
     "text": [
      "\n",
      "Counterfactual set (new outcome: 0)\n"
     ]
    },
    {
     "ename": "AttributeError",
     "evalue": "'NoneType' object has no attribute 'get_list_of_features_values'",
     "output_type": "error",
     "traceback": [
      "\u001b[0;31m---------------------------------------------------------------------------\u001b[0m",
      "\u001b[0;31mAttributeError\u001b[0m                            Traceback (most recent call last)",
      "\u001b[1;32m/home/rita/TRUST_AI/trustframework/trustCE/examples_notebooks_demos/homeloan_cf_genetic.ipynb Cell 12\u001b[0m line \u001b[0;36m5\n\u001b[1;32m      <a href='vscode-notebook-cell:/home/rita/TRUST_AI/trustframework/trustCE/examples_notebooks_demos/homeloan_cf_genetic.ipynb#X14sZmlsZQ%3D%3D?line=1'>2</a>\u001b[0m search\u001b[39m.\u001b[39mevaluate_counterfactuals(target_instance, counterfactuals)\n\u001b[1;32m      <a href='vscode-notebook-cell:/home/rita/TRUST_AI/trustframework/trustCE/examples_notebooks_demos/homeloan_cf_genetic.ipynb#X14sZmlsZQ%3D%3D?line=3'>4</a>\u001b[0m \u001b[39m# Display the counterfactuals and original instance in the notebook\u001b[39;00m\n\u001b[0;32m----> <a href='vscode-notebook-cell:/home/rita/TRUST_AI/trustframework/trustCE/examples_notebooks_demos/homeloan_cf_genetic.ipynb#X14sZmlsZQ%3D%3D?line=4'>5</a>\u001b[0m display_df \u001b[39m=\u001b[39m search\u001b[39m.\u001b[39;49mvisualize_as_dataframe(target_instance, counterfactuals)\n\u001b[1;32m      <a href='vscode-notebook-cell:/home/rita/TRUST_AI/trustframework/trustCE/examples_notebooks_demos/homeloan_cf_genetic.ipynb#X14sZmlsZQ%3D%3D?line=5'>6</a>\u001b[0m display(display_df)\n",
      "File \u001b[0;32m~/TRUST_AI/trustframework/trustCE/trustce/cfsearch.py:350\u001b[0m, in \u001b[0;36mCFsearch.visualize_as_dataframe\u001b[0;34m(self, display_sparse_df, show_only_changes)\u001b[0m\n\u001b[1;32m    348\u001b[0m \u001b[39mprint\u001b[39m(\u001b[39m'\u001b[39m\u001b[39mQuery instance (original outcome : \u001b[39m\u001b[39m%i\u001b[39;00m\u001b[39m)\u001b[39m\u001b[39m'\u001b[39m \u001b[39m%\u001b[39m \u001b[39mself\u001b[39m\u001b[39m.\u001b[39moriginal_instance_prediciton)\n\u001b[1;32m    349\u001b[0m display(pd\u001b[39m.\u001b[39mDataFrame([\u001b[39mself\u001b[39m\u001b[39m.\u001b[39mquery_instance\u001b[39m.\u001b[39mget_values_dict()]))  \u001b[39m# works only in Jupyter notebook\u001b[39;00m\n\u001b[0;32m--> 350\u001b[0m \u001b[39mself\u001b[39;49m\u001b[39m.\u001b[39;49m_visualize_internal(show_only_changes\u001b[39m=\u001b[39;49mshow_only_changes,\n\u001b[1;32m    351\u001b[0m                          is_notebook_console\u001b[39m=\u001b[39;49m\u001b[39mTrue\u001b[39;49;00m)\n",
      "File \u001b[0;32m~/TRUST_AI/trustframework/trustCE/trustce/cfsearch.py:356\u001b[0m, in \u001b[0;36mCFsearch._visualize_internal\u001b[0;34m(self, show_only_changes, is_notebook_console)\u001b[0m\n\u001b[1;32m    354\u001b[0m \u001b[39mif\u001b[39;00m \u001b[39mself\u001b[39m\u001b[39m.\u001b[39mcounterfactual_instances \u001b[39mis\u001b[39;00m \u001b[39mnot\u001b[39;00m \u001b[39mNone\u001b[39;00m \u001b[39mand\u001b[39;00m \u001b[39mlen\u001b[39m(\u001b[39mself\u001b[39m\u001b[39m.\u001b[39mcounterfactual_instances) \u001b[39m>\u001b[39m \u001b[39m0\u001b[39m:\n\u001b[1;32m    355\u001b[0m     \u001b[39mprint\u001b[39m(\u001b[39m'\u001b[39m\u001b[39m\\n\u001b[39;00m\u001b[39mCounterfactual set (new outcome: \u001b[39m\u001b[39m{0}\u001b[39;00m\u001b[39m)\u001b[39m\u001b[39m'\u001b[39m\u001b[39m.\u001b[39mformat(\u001b[39mself\u001b[39m\u001b[39m.\u001b[39mnew_outcome)) \u001b[39m# if more than 1 cf won't work\u001b[39;00m\n\u001b[0;32m--> 356\u001b[0m     \u001b[39mself\u001b[39;49m\u001b[39m.\u001b[39;49m_dump_output(content\u001b[39m=\u001b[39;49m\u001b[39mself\u001b[39;49m\u001b[39m.\u001b[39;49mcounterfactual_instances, show_only_changes\u001b[39m=\u001b[39;49mshow_only_changes,\n\u001b[1;32m    357\u001b[0m                         is_notebook_console\u001b[39m=\u001b[39;49mis_notebook_console)\n\u001b[1;32m    358\u001b[0m \u001b[39melse\u001b[39;00m:\n\u001b[1;32m    359\u001b[0m     \u001b[39mprint\u001b[39m(\u001b[39m'\u001b[39m\u001b[39m\\n\u001b[39;00m\u001b[39mNo counterfactuals found!\u001b[39m\u001b[39m'\u001b[39m)\n",
      "File \u001b[0;32m~/TRUST_AI/trustframework/trustCE/trustce/cfsearch.py:364\u001b[0m, in \u001b[0;36mCFsearch._dump_output\u001b[0;34m(self, content, show_only_changes, is_notebook_console)\u001b[0m\n\u001b[1;32m    362\u001b[0m \u001b[39mimport\u001b[39;00m \u001b[39mpandas\u001b[39;00m \u001b[39mas\u001b[39;00m \u001b[39mpd\u001b[39;00m\n\u001b[1;32m    363\u001b[0m \u001b[39mif\u001b[39;00m is_notebook_console:\n\u001b[0;32m--> 364\u001b[0m     \u001b[39mself\u001b[39;49m\u001b[39m.\u001b[39;49mdisplay_df(content, show_only_changes\u001b[39m=\u001b[39;49mshow_only_changes)\n\u001b[1;32m    365\u001b[0m \u001b[39melse\u001b[39;00m:\n\u001b[1;32m    366\u001b[0m     \u001b[39massert\u001b[39;00m \u001b[39misinstance\u001b[39m(content, pd\u001b[39m.\u001b[39mDataFrame), \u001b[39m\"\u001b[39m\u001b[39mExpecting a pandas dataframe\u001b[39m\u001b[39m\"\u001b[39m\n",
      "File \u001b[0;32m~/TRUST_AI/trustframework/trustCE/trustce/cfsearch.py:392\u001b[0m, in \u001b[0;36mCFsearch.display_df\u001b[0;34m(self, df, show_only_changes)\u001b[0m\n\u001b[1;32m    390\u001b[0m \u001b[39melse\u001b[39;00m:\n\u001b[1;32m    391\u001b[0m     \u001b[39mif\u001b[39;00m df[\u001b[39m0\u001b[39m]\u001b[39m.\u001b[39mnormalized:\n\u001b[0;32m--> 392\u001b[0m         newdf \u001b[39m=\u001b[39m [\u001b[39mself\u001b[39m\u001b[39m.\u001b[39mtransformer\u001b[39m.\u001b[39mdenormalize_instance(cf_instance)\u001b[39m.\u001b[39mget_list_of_features_values() \u001b[39mfor\u001b[39;00m cf_instance \u001b[39min\u001b[39;00m df]\n\u001b[1;32m    393\u001b[0m     \u001b[39melse\u001b[39;00m:\n\u001b[1;32m    394\u001b[0m         newdf \u001b[39m=\u001b[39m [cf_instance\u001b[39m.\u001b[39mget_list_of_features_values() \u001b[39mfor\u001b[39;00m cf_instance \u001b[39min\u001b[39;00m df]\n",
      "File \u001b[0;32m~/TRUST_AI/trustframework/trustCE/trustce/cfsearch.py:392\u001b[0m, in \u001b[0;36m<listcomp>\u001b[0;34m(.0)\u001b[0m\n\u001b[1;32m    390\u001b[0m \u001b[39melse\u001b[39;00m:\n\u001b[1;32m    391\u001b[0m     \u001b[39mif\u001b[39;00m df[\u001b[39m0\u001b[39m]\u001b[39m.\u001b[39mnormalized:\n\u001b[0;32m--> 392\u001b[0m         newdf \u001b[39m=\u001b[39m [\u001b[39mself\u001b[39;49m\u001b[39m.\u001b[39;49mtransformer\u001b[39m.\u001b[39;49mdenormalize_instance(cf_instance)\u001b[39m.\u001b[39;49mget_list_of_features_values() \u001b[39mfor\u001b[39;00m cf_instance \u001b[39min\u001b[39;00m df]\n\u001b[1;32m    393\u001b[0m     \u001b[39melse\u001b[39;00m:\n\u001b[1;32m    394\u001b[0m         newdf \u001b[39m=\u001b[39m [cf_instance\u001b[39m.\u001b[39mget_list_of_features_values() \u001b[39mfor\u001b[39;00m cf_instance \u001b[39min\u001b[39;00m df]\n",
      "\u001b[0;31mAttributeError\u001b[0m: 'NoneType' object has no attribute 'get_list_of_features_values'"
     ]
    }
   ],
   "source": [
    "# Evaluate and visualize the counterfactuals\n",
    "search.evaluate_counterfactuals(target_instance, counterfactuals)\n",
    "\n",
    "# Display the counterfactuals and original instance in the notebook\n",
    "display_df = search.visualize_as_dataframe(target_instance, counterfactuals)\n",
    "display(display_df)"
   ]
  },
  {
   "cell_type": "markdown",
   "metadata": {},
   "source": [
    "## Storing the Results\n",
    "For reproducibility and further analysis, we'll store the counterfactuals and their evaluations in designated folders."
   ]
  },
  {
   "cell_type": "code",
   "execution_count": null,
   "metadata": {},
   "outputs": [
    {
     "ename": "ValueError",
     "evalue": "y contains previously unseen labels: [-2]",
     "output_type": "error",
     "traceback": [
      "\u001b[0;31m---------------------------------------------------------------------------\u001b[0m",
      "\u001b[0;31mValueError\u001b[0m                                Traceback (most recent call last)",
      "\u001b[1;32m/home/rita/TRUST_AI/trustframework/trustCE/examples_notebooks_demos/homeloan_cf_genetic.ipynb Cell 14\u001b[0m line \u001b[0;36m2\n\u001b[1;32m      <a href='vscode-notebook-cell:/home/rita/TRUST_AI/trustframework/trustCE/examples_notebooks_demos/homeloan_cf_genetic.ipynb#X16sZmlsZQ%3D%3D?line=0'>1</a>\u001b[0m \u001b[39m# Store results\u001b[39;00m\n\u001b[0;32m----> <a href='vscode-notebook-cell:/home/rita/TRUST_AI/trustframework/trustCE/examples_notebooks_demos/homeloan_cf_genetic.ipynb#X16sZmlsZQ%3D%3D?line=1'>2</a>\u001b[0m search\u001b[39m.\u001b[39;49mstore_counterfactuals(config\u001b[39m.\u001b[39;49mget_config_value(\u001b[39m\"\u001b[39;49m\u001b[39moutput_folder\u001b[39;49m\u001b[39m\"\u001b[39;49m), \u001b[39m\"\u001b[39;49m\u001b[39mfirst_test\u001b[39;49m\u001b[39m\"\u001b[39;49m)\n\u001b[1;32m      <a href='vscode-notebook-cell:/home/rita/TRUST_AI/trustframework/trustCE/examples_notebooks_demos/homeloan_cf_genetic.ipynb#X16sZmlsZQ%3D%3D?line=2'>3</a>\u001b[0m search\u001b[39m.\u001b[39mstore_evaluations(config\u001b[39m.\u001b[39mget_config_value(\u001b[39m\"\u001b[39m\u001b[39moutput_folder\u001b[39m\u001b[39m\"\u001b[39m), \u001b[39m\"\u001b[39m\u001b[39mfirst_eval\u001b[39m\u001b[39m\"\u001b[39m)\n",
      "File \u001b[0;32m~/TRUST_AI/trustframework/trustCE/trustce/cfsearch.py:37\u001b[0m, in \u001b[0;36mCFsearch.store_counterfactuals\u001b[0;34m(self, output_folder, indexname)\u001b[0m\n\u001b[1;32m     35\u001b[0m \u001b[39mfor\u001b[39;00m i \u001b[39min\u001b[39;00m \u001b[39mrange\u001b[39m(number_cf):\n\u001b[1;32m     36\u001b[0m     \u001b[39mif\u001b[39;00m \u001b[39mself\u001b[39m\u001b[39m.\u001b[39mtransformer\u001b[39m.\u001b[39mnormalized:\n\u001b[0;32m---> 37\u001b[0m         \u001b[39mself\u001b[39;49m\u001b[39m.\u001b[39;49mtransformer\u001b[39m.\u001b[39;49mdenormalize_instance(\u001b[39mself\u001b[39;49m\u001b[39m.\u001b[39;49mcounterfactuals[i])\n\u001b[1;32m     39\u001b[0m \u001b[39m# making filenames for every counterfactual\u001b[39;00m\n\u001b[1;32m     40\u001b[0m \u001b[39mfor\u001b[39;00m i \u001b[39min\u001b[39;00m \u001b[39mrange\u001b[39m(number_cf):\n",
      "File \u001b[0;32m~/TRUST_AI/trustframework/trustCE/trustce/transformer.py:48\u001b[0m, in \u001b[0;36mTransformer.denormalize_instance\u001b[0;34m(self, instance)\u001b[0m\n\u001b[1;32m     46\u001b[0m     feature\u001b[39m.\u001b[39mvalue \u001b[39m=\u001b[39m \u001b[39mself\u001b[39m\u001b[39m.\u001b[39mcontinuous_features_transformers[feature_name]\u001b[39m.\u001b[39mdenormalize_cont_value(feature\u001b[39m.\u001b[39mvalue) \u001b[39m#TODO check for over-assignment\u001b[39;00m\n\u001b[1;32m     47\u001b[0m \u001b[39melif\u001b[39;00m feature_name \u001b[39min\u001b[39;00m \u001b[39mself\u001b[39m\u001b[39m.\u001b[39mcategorical_features_transformers:\n\u001b[0;32m---> 48\u001b[0m     feature\u001b[39m.\u001b[39mvalue \u001b[39m=\u001b[39m \u001b[39mself\u001b[39;49m\u001b[39m.\u001b[39;49mcategorical_features_transformers[feature_name]\u001b[39m.\u001b[39;49mdenormalize_cat_value(feature\u001b[39m.\u001b[39;49mvalue)\n\u001b[1;32m     49\u001b[0m \u001b[39melse\u001b[39;00m:\n\u001b[1;32m     50\u001b[0m     \u001b[39mraise\u001b[39;00m \u001b[39mValueError\u001b[39;00m(\u001b[39m\"\u001b[39m\u001b[39mFeature name is not in continuous or categorical features list\u001b[39m\u001b[39m\"\u001b[39m)\n",
      "File \u001b[0;32m~/TRUST_AI/trustframework/trustCE/trustce/transformer.py:250\u001b[0m, in \u001b[0;36mFeatureTransformer._label_dec\u001b[0;34m(self, value)\u001b[0m\n\u001b[1;32m    249\u001b[0m \u001b[39mdef\u001b[39;00m \u001b[39m_label_dec\u001b[39m(\u001b[39mself\u001b[39m, value):\n\u001b[0;32m--> 250\u001b[0m     original_value \u001b[39m=\u001b[39m \u001b[39mself\u001b[39;49m\u001b[39m.\u001b[39;49mlabel_encoder\u001b[39m.\u001b[39;49minverse_transform([value])[\u001b[39m0\u001b[39m]\n\u001b[1;32m    251\u001b[0m     \u001b[39mreturn\u001b[39;00m original_value\n",
      "File \u001b[0;32m~/miniconda3/envs/demo_trustce/lib/python3.10/site-packages/sklearn/preprocessing/_label.py:160\u001b[0m, in \u001b[0;36mLabelEncoder.inverse_transform\u001b[0;34m(self, y)\u001b[0m\n\u001b[1;32m    158\u001b[0m diff \u001b[39m=\u001b[39m np\u001b[39m.\u001b[39msetdiff1d(y, np\u001b[39m.\u001b[39marange(\u001b[39mlen\u001b[39m(\u001b[39mself\u001b[39m\u001b[39m.\u001b[39mclasses_)))\n\u001b[1;32m    159\u001b[0m \u001b[39mif\u001b[39;00m \u001b[39mlen\u001b[39m(diff):\n\u001b[0;32m--> 160\u001b[0m     \u001b[39mraise\u001b[39;00m \u001b[39mValueError\u001b[39;00m(\u001b[39m\"\u001b[39m\u001b[39my contains previously unseen labels: \u001b[39m\u001b[39m%s\u001b[39;00m\u001b[39m\"\u001b[39m \u001b[39m%\u001b[39m \u001b[39mstr\u001b[39m(diff))\n\u001b[1;32m    161\u001b[0m y \u001b[39m=\u001b[39m np\u001b[39m.\u001b[39masarray(y)\n\u001b[1;32m    162\u001b[0m \u001b[39mreturn\u001b[39;00m \u001b[39mself\u001b[39m\u001b[39m.\u001b[39mclasses_[y]\n",
      "\u001b[0;31mValueError\u001b[0m: y contains previously unseen labels: [-2]"
     ]
    }
   ],
   "source": [
    "# Store results\n",
    "search.store_counterfactuals(config.get_config_value(\"output_folder\"), \"first_test\")\n",
    "search.store_evaluations(config.get_config_value(\"output_folder\"), \"first_eval\")"
   ]
  },
  {
   "cell_type": "code",
   "execution_count": null,
   "metadata": {},
   "outputs": [],
   "source": []
  },
  {
   "cell_type": "code",
   "execution_count": null,
   "metadata": {},
   "outputs": [],
   "source": []
  }
 ],
 "metadata": {
  "kernelspec": {
   "display_name": "trustce",
   "language": "python",
   "name": "python3"
  },
  "language_info": {
   "codemirror_mode": {
    "name": "ipython",
    "version": 3
   },
   "file_extension": ".py",
   "mimetype": "text/x-python",
   "name": "python",
   "nbconvert_exporter": "python",
   "pygments_lexer": "ipython3",
   "version": "3.10.13"
  }
 },
 "nbformat": 4,
 "nbformat_minor": 2
}
