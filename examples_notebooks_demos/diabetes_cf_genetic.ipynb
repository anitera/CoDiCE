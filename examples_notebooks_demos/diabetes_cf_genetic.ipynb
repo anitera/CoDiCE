{
 "cells": [
  {
   "cell_type": "markdown",
   "metadata": {},
   "source": [
    "## Setting Up and Importing Libraries\n",
    "In this step, we'll import the necessary libraries and modules. We'll also ensure the correct path is set to access our custom modules."
   ]
  },
  {
   "cell_type": "code",
   "execution_count": 1,
   "metadata": {},
   "outputs": [],
   "source": [
    "# Import necessary libraries\n",
    "import pandas as pd\n",
    "import os\n",
    "import sys\n",
    "import json\n"
   ]
  },
  {
   "cell_type": "code",
   "execution_count": 2,
   "metadata": {},
   "outputs": [
    {
     "name": "stdout",
     "output_type": "stream",
     "text": [
      "/home/rita/TRUST_AI/trustframework/codice\n"
     ]
    }
   ],
   "source": [
    "# Make sure that the current working directory is the parent directory of the project\n",
    "os.chdir(os.path.join(os.getcwd(), '..'))\n",
    "print(os.getcwd())"
   ]
  },
  {
   "cell_type": "code",
   "execution_count": 3,
   "metadata": {},
   "outputs": [],
   "source": [
    "from codice.cfsearch import CFsearch\n",
    "from codice.dataset import Dataset\n",
    "from codice.explainable_model import ExplainableModel\n",
    "from codice.ceinstance.instance_sampler import CEInstanceSampler\n",
    "from codice.config import Config\n",
    "from codice.transformer import Transformer\n",
    "from codice.ceinstance.instance_factory import InstanceFactory\n",
    "from codice import load_datasets"
   ]
  },
  {
   "cell_type": "markdown",
   "metadata": {},
   "source": [
    "## Loading Configuration\n",
    "Here, we'll load our configuration files which dictate various parameters for our counterfactual search. It includes dataset details, feature management, and other related configurations."
   ]
  },
  {
   "cell_type": "code",
   "execution_count": 4,
   "metadata": {},
   "outputs": [
    {
     "name": "stdout",
     "output_type": "stream",
     "text": [
      "Configuration Loaded:\n",
      "<codice.config.Config object at 0x7f42dd4be2c0>\n"
     ]
    }
   ],
   "source": [
    "# Load configuration\n",
    "config_file_path = \"config/conf_diabetes.yaml\"\n",
    "config = Config(config_file_path)\n",
    "\n",
    "with open(\"config/constraints_conf_diabetes.json\", 'r') as file:\n",
    "    constraints = json.load(file)\n",
    "\n",
    "print(\"Configuration Loaded:\")\n",
    "print(config)"
   ]
  },
  {
   "cell_type": "markdown",
   "metadata": {},
   "source": [
    "## Preparing Dataset and Model\n",
    "In this section, we initialize our dataset, model, and the required transformers. We'll also define a sample instance for which we wish to find the counterfactuals."
   ]
  },
  {
   "cell_type": "code",
   "execution_count": 5,
   "metadata": {},
   "outputs": [],
   "source": [
    "# Set the target instance path\n",
    "target_instance_json = \"input_instance/instance_diabetes.json\"\n",
    "\n",
    "# Load the dataset and set up the necessary objects\n",
    "load_datasets.download(\"diabetes\")"
   ]
  },
  {
   "cell_type": "code",
   "execution_count": 6,
   "metadata": {},
   "outputs": [
    {
     "name": "stdout",
     "output_type": "stream",
     "text": [
      "Features verified\n",
      "Continious features: ['Number of times pregnant', 'Plasma glucose concentration a 2 hours in an oral glucose tolerance test', 'Diastolic blood pressure (mm Hg)', 'Triceps skin fold thickness (mm)', '2-Hour serum insulin (mu U/ml)', 'Body mass index (weight in kg/(height in m)^2)', 'Diabetes pedigree function', 'Age (years)']\n",
      "Categorical features: []\n",
      "Dataset preprocessed\n",
      "Feature: Triceps skin fold thickness (mm)\n",
      "Range: [-1.2873732599334597, 4.918660451660556]\n",
      "Feature: Body mass index (weight in kg/(height in m)^2)\n",
      "Range: [-4.057829473903507, 4.452905629565911]\n",
      "Feature: Diastolic blood pressure (mm Hg)\n",
      "Range: [-3.5702705725858896, 2.732747375693038]\n",
      "Feature: Age (years)\n",
      "Range: [-1.0408711235255357, 4.061069241548041]\n",
      "Feature: Diabetes pedigree function\n",
      "Range: [-1.1887784755437325, 5.879733072364472]\n",
      "Feature: 2-Hour serum insulin (mu U/ml)\n",
      "Range: [-0.6924393247241302, 6.648506691892384]\n",
      "Feature: Plasma glucose concentration a 2 hours in an oral glucose tolerance test\n",
      "Range: [-3.781189595176502, 2.44288623075234]\n",
      "Feature: Number of times pregnant\n",
      "Range: [-1.1411078811017759, 3.9040341763532815]\n",
      "Constraint Type: immutable\n",
      "Sanity check for model\n",
      "Model input shape is  8\n"
     ]
    },
    {
     "name": "stderr",
     "output_type": "stream",
     "text": [
      "/home/rita/miniconda3/envs/demo_codice/lib/python3.10/site-packages/sklearn/base.py:465: UserWarning: X does not have valid feature names, but LogisticRegression was fitted with feature names\n",
      "  warnings.warn(\n"
     ]
    }
   ],
   "source": [
    "data = Dataset(config.get_config_value(\"dataset\"), \"Class variable\")\n",
    "normalization_transformer = Transformer(data, config)\n",
    "instance_factory = InstanceFactory(data)\n",
    "sampler = CEInstanceSampler(config, normalization_transformer, instance_factory)\n",
    "\n",
    "model = ExplainableModel(config.get_config_value(\"model\"))"
   ]
  },
  {
   "cell_type": "code",
   "execution_count": null,
   "metadata": {},
   "outputs": [],
   "source": []
  },
  {
   "cell_type": "markdown",
   "metadata": {},
   "source": [
    "## Finding Counterfactuals\n",
    "With everything set up, we'll now search for counterfactuals for our sample instance using the CFsearch object."
   ]
  },
  {
   "cell_type": "code",
   "execution_count": 7,
   "metadata": {},
   "outputs": [],
   "source": [
    "# Create a CFsearch object\n",
    "config_for_cfsearch = config.get_config_value(\"cfsearch\")\n",
    "search = CFsearch(normalization_transformer, model, sampler, config,\n",
    "                  optimizer_name=config_for_cfsearch[\"optimizer\"], \n",
    "                  distance_continuous=config_for_cfsearch[\"continuous_distance\"], \n",
    "                  distance_categorical=config_for_cfsearch[\"categorical_distance\"], \n",
    "                  loss_type=config_for_cfsearch[\"loss_type\"], \n",
    "                  coherence=config_for_cfsearch[\"coherence\"],\n",
    "                  objective_function_weights=config_for_cfsearch[\"objective_function_weights\"])\n",
    "\n",
    "# Load target instance and find counterfactuals\n",
    "with open(target_instance_json, 'r') as file:\n",
    "    target_instance_json_content = file.read()\n",
    "\n",
    "target_instance = instance_factory.create_instance_from_json(target_instance_json_content)"
   ]
  },
  {
   "cell_type": "code",
   "execution_count": 8,
   "metadata": {},
   "outputs": [],
   "source": [
    "counterfactuals = search.find_counterfactuals(target_instance, number_cf=1, desired_class=\"opposite\", maxiterations=50)"
   ]
  },
  {
   "cell_type": "markdown",
   "metadata": {},
   "source": []
  },
  {
   "cell_type": "markdown",
   "metadata": {},
   "source": [
    "## Evaluation and Visualization\n",
    "Once the counterfactuals are generated, it's crucial to evaluate and visualize them. This helps in understanding how the counterfactuals differ from the original instance and assessing their quality."
   ]
  },
  {
   "cell_type": "code",
   "execution_count": 9,
   "metadata": {},
   "outputs": [
    {
     "name": "stdout",
     "output_type": "stream",
     "text": [
      "Feature Number of times pregnant changed its value from -1.1411078811017759 to -1.5250032433334426\n",
      "Feature Plasma glucose concentration a 2 hours in an oral glucose tolerance test changed its value from 0.5037269282016452 to -0.01829821323868308\n",
      "Feature Diastolic blood pressure (mm Hg) changed its value from -1.5037073108550938 to -0.6374735357298377\n",
      "Feature Triceps skin fold thickness (mm) changed its value from 0.9066790623472528 to 2.0482357783581544\n",
      "Feature 2-Hour serum insulin (mu U/ml) changed its value from 0.7653371892139008 to 1.033344751472744\n",
      "Feature Body mass index (weight in kg/(height in m)^2) changed its value from 1.4088275001580721 to -1.81636552293408\n",
      "Feature Diabetes pedigree function changed its value from 5.481337032943515 to -0.05373047482266624\n",
      "Feature Age (years) changed its value from -0.020483050510820364 to 1.4243972663735833\n",
      "CF instance:  {'Number of times pregnant': -1.5250032433334426, 'Plasma glucose concentration a 2 hours in an oral glucose tolerance test': -0.01829821323868308, 'Diastolic blood pressure (mm Hg)': -0.6374735357298377, 'Triceps skin fold thickness (mm)': 2.0482357783581544, '2-Hour serum insulin (mu U/ml)': 1.033344751472744, 'Body mass index (weight in kg/(height in m)^2)': -1.81636552293408, 'Diabetes pedigree function': -0.05373047482266624, 'Age (years)': 1.4243972663735833}\n",
      "Distance continuous:  13.386859404809734\n",
      "Distance categorical:  0\n",
      "Sparsity continuous:  8\n",
      "Sparsity categorical:  0\n",
      "Validity:  True\n",
      "Coherence:  0.75  incoherent features are  ['Triceps skin fold thickness (mm)', 'Age (years)']\n",
      "Query instance (original outcome : 1)\n"
     ]
    },
    {
     "data": {
      "text/html": [
       "<div>\n",
       "<style scoped>\n",
       "    .dataframe tbody tr th:only-of-type {\n",
       "        vertical-align: middle;\n",
       "    }\n",
       "\n",
       "    .dataframe tbody tr th {\n",
       "        vertical-align: top;\n",
       "    }\n",
       "\n",
       "    .dataframe thead th {\n",
       "        text-align: right;\n",
       "    }\n",
       "</style>\n",
       "<table border=\"1\" class=\"dataframe\">\n",
       "  <thead>\n",
       "    <tr style=\"text-align: right;\">\n",
       "      <th></th>\n",
       "      <th>Number of times pregnant</th>\n",
       "      <th>Plasma glucose concentration a 2 hours in an oral glucose tolerance test</th>\n",
       "      <th>Diastolic blood pressure (mm Hg)</th>\n",
       "      <th>Triceps skin fold thickness (mm)</th>\n",
       "      <th>2-Hour serum insulin (mu U/ml)</th>\n",
       "      <th>Body mass index (weight in kg/(height in m)^2)</th>\n",
       "      <th>Diabetes pedigree function</th>\n",
       "      <th>Age (years)</th>\n",
       "    </tr>\n",
       "  </thead>\n",
       "  <tbody>\n",
       "    <tr>\n",
       "      <th>0</th>\n",
       "      <td>0.0</td>\n",
       "      <td>137.0</td>\n",
       "      <td>40.0</td>\n",
       "      <td>35.0</td>\n",
       "      <td>168.0</td>\n",
       "      <td>43.1</td>\n",
       "      <td>2.288</td>\n",
       "      <td>33.0</td>\n",
       "    </tr>\n",
       "  </tbody>\n",
       "</table>\n",
       "</div>"
      ],
      "text/plain": [
       "   Number of times pregnant  \\\n",
       "0                       0.0   \n",
       "\n",
       "   Plasma glucose concentration a 2 hours in an oral glucose tolerance test  \\\n",
       "0                                              137.0                          \n",
       "\n",
       "   Diastolic blood pressure (mm Hg)  Triceps skin fold thickness (mm)  \\\n",
       "0                              40.0                              35.0   \n",
       "\n",
       "   2-Hour serum insulin (mu U/ml)  \\\n",
       "0                           168.0   \n",
       "\n",
       "   Body mass index (weight in kg/(height in m)^2)  Diabetes pedigree function  \\\n",
       "0                                            43.1                       2.288   \n",
       "\n",
       "   Age (years)  \n",
       "0         33.0  "
      ]
     },
     "metadata": {},
     "output_type": "display_data"
    },
    {
     "name": "stdout",
     "output_type": "stream",
     "text": [
      "\n",
      "Counterfactual set (new outcome: 0)\n"
     ]
    },
    {
     "data": {
      "text/html": [
       "<div>\n",
       "<style scoped>\n",
       "    .dataframe tbody tr th:only-of-type {\n",
       "        vertical-align: middle;\n",
       "    }\n",
       "\n",
       "    .dataframe tbody tr th {\n",
       "        vertical-align: top;\n",
       "    }\n",
       "\n",
       "    .dataframe thead th {\n",
       "        text-align: right;\n",
       "    }\n",
       "</style>\n",
       "<table border=\"1\" class=\"dataframe\">\n",
       "  <thead>\n",
       "    <tr style=\"text-align: right;\">\n",
       "      <th></th>\n",
       "      <th>Number of times pregnant</th>\n",
       "      <th>Plasma glucose concentration a 2 hours in an oral glucose tolerance test</th>\n",
       "      <th>Diastolic blood pressure (mm Hg)</th>\n",
       "      <th>Triceps skin fold thickness (mm)</th>\n",
       "      <th>2-Hour serum insulin (mu U/ml)</th>\n",
       "      <th>Body mass index (weight in kg/(height in m)^2)</th>\n",
       "      <th>Diabetes pedigree function</th>\n",
       "      <th>Age (years)</th>\n",
       "    </tr>\n",
       "  </thead>\n",
       "  <tbody>\n",
       "    <tr>\n",
       "      <th>0</th>\n",
       "      <td>-1.2935653909476605</td>\n",
       "      <td>120.3094894644664</td>\n",
       "      <td>56.766653916024126</td>\n",
       "      <td>53.210361099706574</td>\n",
       "      <td>198.88626413513452</td>\n",
       "      <td>17.67206114178513</td>\n",
       "      <td>0.45407385935097</td>\n",
       "      <td>49.99212707512977</td>\n",
       "    </tr>\n",
       "  </tbody>\n",
       "</table>\n",
       "</div>"
      ],
      "text/plain": [
       "  Number of times pregnant  \\\n",
       "0      -1.2935653909476605   \n",
       "\n",
       "  Plasma glucose concentration a 2 hours in an oral glucose tolerance test  \\\n",
       "0                                  120.3094894644664                         \n",
       "\n",
       "  Diastolic blood pressure (mm Hg) Triceps skin fold thickness (mm)  \\\n",
       "0               56.766653916024126               53.210361099706574   \n",
       "\n",
       "  2-Hour serum insulin (mu U/ml)  \\\n",
       "0             198.88626413513452   \n",
       "\n",
       "  Body mass index (weight in kg/(height in m)^2) Diabetes pedigree function  \\\n",
       "0                              17.67206114178513           0.45407385935097   \n",
       "\n",
       "         Age (years)  \n",
       "0  49.99212707512977  "
      ]
     },
     "metadata": {},
     "output_type": "display_data"
    },
    {
     "data": {
      "text/plain": [
       "None"
      ]
     },
     "metadata": {},
     "output_type": "display_data"
    }
   ],
   "source": [
    "# Evaluate and visualize the counterfactuals\n",
    "search.evaluate_counterfactuals(target_instance, counterfactuals)\n",
    "\n",
    "# Display the counterfactuals and original instance in the notebook\n",
    "display_df = search.visualize_as_dataframe(target_instance, counterfactuals)\n",
    "display(display_df)"
   ]
  },
  {
   "cell_type": "markdown",
   "metadata": {},
   "source": [
    "## Storing the Results\n",
    "For reproducibility and further analysis, we'll store the counterfactuals and their evaluations in designated folders."
   ]
  },
  {
   "cell_type": "code",
   "execution_count": 10,
   "metadata": {},
   "outputs": [],
   "source": [
    "# Store results\n",
    "search.store_counterfactuals(config.get_config_value(\"output_folder\"), \"diabetes_first_test\")\n",
    "search.store_evaluations(config.get_config_value(\"output_folder\"), \"diabetes_first_test\")"
   ]
  },
  {
   "cell_type": "code",
   "execution_count": null,
   "metadata": {},
   "outputs": [],
   "source": []
  },
  {
   "cell_type": "code",
   "execution_count": null,
   "metadata": {},
   "outputs": [],
   "source": []
  }
 ],
 "metadata": {
  "kernelspec": {
   "display_name": "codice",
   "language": "python",
   "name": "python3"
  },
  "language_info": {
   "codemirror_mode": {
    "name": "ipython",
    "version": 3
   },
   "file_extension": ".py",
   "mimetype": "text/x-python",
   "name": "python",
   "nbconvert_exporter": "python",
   "pygments_lexer": "ipython3",
   "version": "3.10.13"
  }
 },
 "nbformat": 4,
 "nbformat_minor": 2
}
