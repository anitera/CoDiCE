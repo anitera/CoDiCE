{
 "cells": [
  {
   "cell_type": "markdown",
   "metadata": {},
   "source": [
    "## Setting Up and Importing Libraries\n",
    "In this step, we'll import the necessary libraries and modules. We'll also ensure the correct path is set to access our custom modules."
   ]
  },
  {
   "cell_type": "code",
   "execution_count": 1,
   "metadata": {},
   "outputs": [],
   "source": [
    "# Import necessary libraries\n",
    "import pandas as pd\n",
    "import os\n",
    "import sys\n",
    "import json\n"
   ]
  },
  {
   "cell_type": "code",
   "execution_count": 2,
   "metadata": {},
   "outputs": [
    {
     "name": "stdout",
     "output_type": "stream",
     "text": [
      "/home/rita/TRUST_AI/trustframework/trustCE\n"
     ]
    }
   ],
   "source": [
    "# Going back to the root directory to make sure that we execute from trustCE folder\n",
    "os.chdir(os.path.join(os.getcwd(), '..'))\n",
    "print(os.getcwd())"
   ]
  },
  {
   "cell_type": "code",
   "execution_count": 3,
   "metadata": {},
   "outputs": [],
   "source": [
    "from trustce.cfsearch import CFsearch\n",
    "from trustce.dataset import Dataset\n",
    "from trustce.cemodels.base_model import BaseModel\n",
    "from trustce.cemodels.sklearn_model import SklearnModel\n",
    "from trustce.ceinstance.instance_sampler import CEInstanceSampler\n",
    "from trustce.config import Config\n",
    "from trustce.transformer import Transformer\n",
    "from trustce.ceinstance.instance_factory import InstanceFactory\n",
    "from trustce import load_datasets"
   ]
  },
  {
   "cell_type": "markdown",
   "metadata": {},
   "source": [
    "## Loading Configuration\n",
    "Here, we'll load our configuration files which dictate various parameters for our counterfactual search. It includes dataset details, feature management, and other related configurations."
   ]
  },
  {
   "cell_type": "code",
   "execution_count": 4,
   "metadata": {},
   "outputs": [
    {
     "name": "stdout",
     "output_type": "stream",
     "text": [
      "Configuration Loaded:\n",
      "<trustce.config.Config object at 0x7fd8a28858a0>\n"
     ]
    }
   ],
   "source": [
    "# Load configuration\n",
    "config_file_path = \"config/conf_homeloan_coherence.yaml\"\n",
    "config = Config(config_file_path)\n",
    "\n",
    "with open(\"config/constraints_homeloan_ch.json\", 'r') as file:\n",
    "    constraints = json.load(file)\n",
    "\n",
    "print(\"Configuration Loaded:\")\n",
    "print(config)"
   ]
  },
  {
   "cell_type": "markdown",
   "metadata": {},
   "source": [
    "## Preparing Dataset and Model\n",
    "In this section, we initialize our dataset, model, and the required transformers. We'll also define a sample instance for which we wish to find the counterfactuals."
   ]
  },
  {
   "cell_type": "code",
   "execution_count": 5,
   "metadata": {},
   "outputs": [],
   "source": [
    "# Load the dataset and set up the necessary objects\n",
    "load_datasets.download(\"homeloan\")"
   ]
  },
  {
   "cell_type": "code",
   "execution_count": 6,
   "metadata": {},
   "outputs": [
    {
     "name": "stdout",
     "output_type": "stream",
     "text": [
      "Features verified\n",
      "Continious features: ['ApplicantIncome', 'CoapplicantIncome', 'LoanAmount', 'Loan_Amount_Term']\n",
      "Categorical features: ['Gender', 'Married', 'Dependents', 'Education', 'Self_Employed', 'Property_Area', 'Credit_History']\n",
      "Dataset preprocessed\n"
     ]
    },
    {
     "name": "stderr",
     "output_type": "stream",
     "text": [
      "/home/rita/miniconda3/envs/demo_trustce/lib/python3.10/site-packages/sklearn/preprocessing/_label.py:97: DataConversionWarning: A column-vector y was passed when a 1d array was expected. Please change the shape of y to (n_samples, ), for example using ravel().\n",
      "  y = column_or_1d(y, warn=True)\n",
      "/home/rita/miniconda3/envs/demo_trustce/lib/python3.10/site-packages/sklearn/preprocessing/_label.py:97: DataConversionWarning: A column-vector y was passed when a 1d array was expected. Please change the shape of y to (n_samples, ), for example using ravel().\n",
      "  y = column_or_1d(y, warn=True)\n",
      "/home/rita/miniconda3/envs/demo_trustce/lib/python3.10/site-packages/sklearn/preprocessing/_label.py:97: DataConversionWarning: A column-vector y was passed when a 1d array was expected. Please change the shape of y to (n_samples, ), for example using ravel().\n",
      "  y = column_or_1d(y, warn=True)\n",
      "/home/rita/miniconda3/envs/demo_trustce/lib/python3.10/site-packages/sklearn/preprocessing/_label.py:97: DataConversionWarning: A column-vector y was passed when a 1d array was expected. Please change the shape of y to (n_samples, ), for example using ravel().\n",
      "  y = column_or_1d(y, warn=True)\n",
      "/home/rita/miniconda3/envs/demo_trustce/lib/python3.10/site-packages/sklearn/preprocessing/_label.py:97: DataConversionWarning: A column-vector y was passed when a 1d array was expected. Please change the shape of y to (n_samples, ), for example using ravel().\n",
      "  y = column_or_1d(y, warn=True)\n",
      "/home/rita/miniconda3/envs/demo_trustce/lib/python3.10/site-packages/sklearn/preprocessing/_label.py:97: DataConversionWarning: A column-vector y was passed when a 1d array was expected. Please change the shape of y to (n_samples, ), for example using ravel().\n",
      "  y = column_or_1d(y, warn=True)\n",
      "/home/rita/miniconda3/envs/demo_trustce/lib/python3.10/site-packages/sklearn/preprocessing/_label.py:97: DataConversionWarning: A column-vector y was passed when a 1d array was expected. Please change the shape of y to (n_samples, ), for example using ravel().\n",
      "  y = column_or_1d(y, warn=True)\n"
     ]
    },
    {
     "name": "stdout",
     "output_type": "stream",
     "text": [
      " MAD for feature %s is 0, so replacing it with 1.0 to avoid error. Loan_Amount_Term\n",
      "Feature Name: Credit_History\n",
      "Feature: Credit_History\n",
      "Range: [0, 1]\n",
      "Feature Name: ApplicantIncome\n",
      "Feature: ApplicantIncome\n",
      "Range: [-0.8484208485011338, 12.130392628461765]\n",
      "Feature Name: Self_Employed\n",
      "Feature: Self_Employed\n",
      "Range: [0, 1]\n",
      "Feature Name: Property_Area\n",
      "Feature: Property_Area\n",
      "Range: [0, 2]\n",
      "Feature Name: Married\n",
      "Feature: Married\n",
      "Range: [0, 1]\n",
      "Feature Name: Loan_Amount_Term\n",
      "Feature: Loan_Amount_Term\n",
      "Range: [-5.044846090672822, 2.106513522957335]\n",
      "Feature Name: Education\n",
      "Feature: Education\n",
      "Range: [0, 1]\n",
      "Feature Name: LoanAmount\n",
      "Feature: LoanAmount\n",
      "Range: [-1.5999485916282457, 6.4030605082645256]\n",
      "Feature Name: Dependents\n",
      "Feature: Dependents\n",
      "Range: [0, 3]\n",
      "Feature Name: CoapplicantIncome\n",
      "Feature: CoapplicantIncome\n",
      "Range: [-0.5480568542195732, 13.372167288446013]\n",
      "Feature Name: Gender\n",
      "Feature: Gender\n",
      "Range: [0, 1]\n",
      "Constraint Type: immutable\n",
      "Sanity check for model\n",
      "Model input shape is  11\n",
      "Sanity check prediciton  [0]\n"
     ]
    },
    {
     "name": "stderr",
     "output_type": "stream",
     "text": [
      "/home/rita/miniconda3/envs/demo_trustce/lib/python3.10/site-packages/sklearn/base.py:348: InconsistentVersionWarning: Trying to unpickle estimator LogisticRegression from version 1.2.2 when using version 1.3.1. This might lead to breaking code or invalid results. Use at your own risk. For more info please refer to:\n",
      "https://scikit-learn.org/stable/model_persistence.html#security-maintainability-limitations\n",
      "  warnings.warn(\n",
      "/home/rita/miniconda3/envs/demo_trustce/lib/python3.10/site-packages/sklearn/base.py:465: UserWarning: X does not have valid feature names, but LogisticRegression was fitted with feature names\n",
      "  warnings.warn(\n",
      "/home/rita/miniconda3/envs/demo_trustce/lib/python3.10/site-packages/sklearn/base.py:465: UserWarning: X does not have valid feature names, but LogisticRegression was fitted with feature names\n",
      "  warnings.warn(\n"
     ]
    }
   ],
   "source": [
    "data = Dataset(config.get_config_value(\"dataset\"), \"Loan_Status\")\n",
    "normalization_transformer = Transformer(data, config)\n",
    "instance_factory = InstanceFactory(data)\n",
    "sampler = CEInstanceSampler(config, normalization_transformer, instance_factory)\n",
    "\n",
    "model = SklearnModel(config.get_config_value(\"model\"))"
   ]
  },
  {
   "cell_type": "markdown",
   "metadata": {},
   "source": [
    "## Finding Counterfactuals\n",
    "With everything set up, we'll now search for counterfactuals for our sample instance using the CFsearch object."
   ]
  },
  {
   "cell_type": "code",
   "execution_count": 7,
   "metadata": {},
   "outputs": [],
   "source": [
    "# Set the target instance path\n",
    "target_instance_json = \"input_instance/instance.json\""
   ]
  },
  {
   "cell_type": "code",
   "execution_count": 8,
   "metadata": {},
   "outputs": [],
   "source": [
    "# Create a CFsearch object\n",
    "config_for_cfsearch = config.get_config_value(\"cfsearch\")\n",
    "search = CFsearch(normalization_transformer, model, sampler, config,\n",
    "                  optimizer_name=config_for_cfsearch[\"optimizer\"], \n",
    "                  distance_continuous=config_for_cfsearch[\"continuous_distance\"], \n",
    "                  distance_categorical=config_for_cfsearch[\"categorical_distance\"], \n",
    "                  loss_type=config_for_cfsearch[\"loss_type\"], \n",
    "                  coherence=config_for_cfsearch[\"coherence\"],\n",
    "                  objective_function_weights=config_for_cfsearch[\"objective_function_weights\"])\n",
    "\n",
    "# Load target instance and find counterfactuals\n",
    "with open(target_instance_json, 'r') as file:\n",
    "    target_instance_json_content = file.read()\n",
    "\n",
    "target_instance = instance_factory.create_instance_from_json(target_instance_json_content)"
   ]
  },
  {
   "cell_type": "code",
   "execution_count": 9,
   "metadata": {},
   "outputs": [
    {
     "name": "stdout",
     "output_type": "stream",
     "text": [
      "Label encoder:  Male  for feature  Gender  is transformed into  1\n",
      "Label encoder:  Yes  for feature  Married  is transformed into  1\n",
      "Label encoder:  2  for feature  Dependents  is transformed into  2\n",
      "Label encoder:  Graduate  for feature  Education  is transformed into  0\n",
      "Label encoder:  No  for feature  Self_Employed  is transformed into  0\n",
      "Label encoder:  Urban  for feature  Property_Area  is transformed into  2\n",
      "Label encoder:  1.0  for feature  Credit_History  is transformed into  1\n"
     ]
    },
    {
     "ename": "IndexError",
     "evalue": "invalid index to scalar variable.",
     "output_type": "error",
     "traceback": [
      "\u001b[0;31m---------------------------------------------------------------------------\u001b[0m",
      "\u001b[0;31mIndexError\u001b[0m                                Traceback (most recent call last)",
      "Cell \u001b[0;32mIn[9], line 1\u001b[0m\n\u001b[0;32m----> 1\u001b[0m counterfactuals \u001b[38;5;241m=\u001b[39m \u001b[43msearch\u001b[49m\u001b[38;5;241;43m.\u001b[39;49m\u001b[43mfind_counterfactuals\u001b[49m\u001b[43m(\u001b[49m\u001b[43mtarget_instance\u001b[49m\u001b[43m,\u001b[49m\u001b[43m \u001b[49m\u001b[43mnumber_cf\u001b[49m\u001b[38;5;241;43m=\u001b[39;49m\u001b[38;5;241;43m1\u001b[39;49m\u001b[43m,\u001b[49m\u001b[43m \u001b[49m\u001b[43mdesired_class\u001b[49m\u001b[38;5;241;43m=\u001b[39;49m\u001b[38;5;124;43m\"\u001b[39;49m\u001b[38;5;124;43mopposite\u001b[39;49m\u001b[38;5;124;43m\"\u001b[39;49m\u001b[43m,\u001b[49m\u001b[43m \u001b[49m\u001b[43mmaxiterations\u001b[49m\u001b[38;5;241;43m=\u001b[39;49m\u001b[38;5;241;43m50\u001b[39;49m\u001b[43m)\u001b[49m\n",
      "File \u001b[0;32m~/TRUST_AI/trustframework/trustCE/trustce/cfsearch.py:111\u001b[0m, in \u001b[0;36mCFsearch.find_counterfactuals\u001b[0;34m(self, query_instance, number_cf, desired_class, maxiterations)\u001b[0m\n\u001b[1;32m    108\u001b[0m \u001b[38;5;28;01melse\u001b[39;00m:\n\u001b[1;32m    109\u001b[0m     \u001b[38;5;28mself\u001b[39m\u001b[38;5;241m.\u001b[39mdesired_output \u001b[38;5;241m=\u001b[39m desired_class\n\u001b[0;32m--> 111\u001b[0m \u001b[38;5;28mself\u001b[39m\u001b[38;5;241m.\u001b[39mcounterfactual_instances, \u001b[38;5;28mself\u001b[39m\u001b[38;5;241m.\u001b[39mbest_candidates, \u001b[38;5;28mself\u001b[39m\u001b[38;5;241m.\u001b[39mfitnes_history, \u001b[38;5;28mself\u001b[39m\u001b[38;5;241m.\u001b[39mloss_history, \u001b[38;5;28mself\u001b[39m\u001b[38;5;241m.\u001b[39mdistance_history \u001b[38;5;241m=\u001b[39m \u001b[38;5;28;43mself\u001b[39;49m\u001b[38;5;241;43m.\u001b[39;49m\u001b[43moptimizer\u001b[49m\u001b[38;5;241;43m.\u001b[39;49m\u001b[43mfind_counterfactuals\u001b[49m\u001b[43m(\u001b[49m\u001b[38;5;28;43mself\u001b[39;49m\u001b[38;5;241;43m.\u001b[39;49m\u001b[43mquery_instance\u001b[49m\u001b[43m,\u001b[49m\u001b[43m \u001b[49m\u001b[43mnumber_cf\u001b[49m\u001b[43m,\u001b[49m\u001b[43m \u001b[49m\u001b[38;5;28;43mself\u001b[39;49m\u001b[38;5;241;43m.\u001b[39;49m\u001b[43mdesired_output\u001b[49m\u001b[43m,\u001b[49m\u001b[43m \u001b[49m\u001b[43mmaxiterations\u001b[49m\u001b[43m)\u001b[49m\n\u001b[1;32m    112\u001b[0m \u001b[38;5;28mself\u001b[39m\u001b[38;5;241m.\u001b[39mnew_outcome \u001b[38;5;241m=\u001b[39m []\n\u001b[1;32m    113\u001b[0m \u001b[38;5;66;03m# Check validity\u001b[39;00m\n\u001b[1;32m    114\u001b[0m \u001b[38;5;66;03m# Checking if we have valid counterfactuals\u001b[39;00m\n",
      "File \u001b[0;32m~/TRUST_AI/trustframework/trustCE/trustce/ceoptimizers/genetic_optimizer.py:435\u001b[0m, in \u001b[0;36mGeneticOptimizer.find_counterfactuals\u001b[0;34m(self, query_instance, number_cf, desired_output, maxiterations)\u001b[0m\n\u001b[1;32m    433\u001b[0m stop_count \u001b[38;5;241m=\u001b[39m \u001b[38;5;241m0\u001b[39m\n\u001b[1;32m    434\u001b[0m \u001b[38;5;28mself\u001b[39m\u001b[38;5;241m.\u001b[39mpopulation \u001b[38;5;241m=\u001b[39m \u001b[38;5;28mself\u001b[39m\u001b[38;5;241m.\u001b[39mgenerate_population(query_instance, population_size)\n\u001b[0;32m--> 435\u001b[0m fitness_list, loss, distance_combined \u001b[38;5;241m=\u001b[39m \u001b[38;5;28;43mself\u001b[39;49m\u001b[38;5;241;43m.\u001b[39;49m\u001b[43mevaluate_population\u001b[49m\u001b[43m(\u001b[49m\u001b[38;5;28;43mself\u001b[39;49m\u001b[38;5;241;43m.\u001b[39;49m\u001b[43mpopulation\u001b[49m\u001b[43m,\u001b[49m\u001b[43m \u001b[49m\u001b[43mquery_instance\u001b[49m\u001b[43m,\u001b[49m\u001b[43m \u001b[49m\u001b[43mdesired_output\u001b[49m\u001b[43m)\u001b[49m\n\u001b[1;32m    437\u001b[0m \u001b[38;5;66;03m# Sorting didn't work properly\u001b[39;00m\n\u001b[1;32m    438\u001b[0m \u001b[38;5;28mself\u001b[39m\u001b[38;5;241m.\u001b[39mpopulation, fitness_list, loss, distance_combined \u001b[38;5;241m=\u001b[39m \u001b[38;5;28mself\u001b[39m\u001b[38;5;241m.\u001b[39msort_population(\u001b[38;5;28mself\u001b[39m\u001b[38;5;241m.\u001b[39mpopulation, fitness_list, loss, distance_combined)\n",
      "File \u001b[0;32m~/TRUST_AI/trustframework/trustCE/trustce/ceoptimizers/genetic_optimizer.py:340\u001b[0m, in \u001b[0;36mGeneticOptimizer.evaluate_population\u001b[0;34m(self, population, query_instance, desired_output)\u001b[0m\n\u001b[1;32m    338\u001b[0m distance_combined \u001b[38;5;241m=\u001b[39m []\n\u001b[1;32m    339\u001b[0m \u001b[38;5;28;01mfor\u001b[39;00m i \u001b[38;5;129;01min\u001b[39;00m \u001b[38;5;28mrange\u001b[39m(\u001b[38;5;28mlen\u001b[39m(population)):\n\u001b[0;32m--> 340\u001b[0m     fitness_curr, loss_curr, distance_curr \u001b[38;5;241m=\u001b[39m \u001b[38;5;28;43mself\u001b[39;49m\u001b[38;5;241;43m.\u001b[39;49m\u001b[43mfitness_function\u001b[49m\u001b[43m(\u001b[49m\u001b[43mpopulation\u001b[49m\u001b[43m[\u001b[49m\u001b[43mi\u001b[49m\u001b[43m]\u001b[49m\u001b[43m,\u001b[49m\u001b[43m \u001b[49m\u001b[43mquery_instance\u001b[49m\u001b[43m,\u001b[49m\u001b[43m \u001b[49m\u001b[43mdesired_output\u001b[49m\u001b[43m)\u001b[49m\n\u001b[1;32m    341\u001b[0m     fitness\u001b[38;5;241m.\u001b[39mappend(fitness_curr)\n\u001b[1;32m    342\u001b[0m     loss\u001b[38;5;241m.\u001b[39mappend(loss_curr)\n",
      "File \u001b[0;32m~/TRUST_AI/trustframework/trustCE/trustce/ceoptimizers/genetic_optimizer.py:34\u001b[0m, in \u001b[0;36mGeneticOptimizer.fitness_function\u001b[0;34m(self, counterfactual_instance, query_instance, desired_output)\u001b[0m\n\u001b[1;32m     31\u001b[0m \u001b[38;5;28;01mif\u001b[39;00m \u001b[38;5;28mself\u001b[39m\u001b[38;5;241m.\u001b[39mloss_type \u001b[38;5;241m==\u001b[39m \u001b[38;5;124m\"\u001b[39m\u001b[38;5;124mhinge\u001b[39m\u001b[38;5;124m\"\u001b[39m:\n\u001b[1;32m     32\u001b[0m     \u001b[38;5;66;03m# if prediction is flipped set the term to be one, if not account for probabilities\u001b[39;00m\n\u001b[1;32m     33\u001b[0m     prediction \u001b[38;5;241m=\u001b[39m \u001b[38;5;28mself\u001b[39m\u001b[38;5;241m.\u001b[39mmodel\u001b[38;5;241m.\u001b[39mpredict_instance(counterfactual_instance)\n\u001b[0;32m---> 34\u001b[0m     \u001b[38;5;28;01mif\u001b[39;00m prediction \u001b[38;5;241m==\u001b[39m \u001b[43mdesired_output\u001b[49m\u001b[43m[\u001b[49m\u001b[38;5;241;43m0\u001b[39;49m\u001b[43m]\u001b[49m:\n\u001b[1;32m     35\u001b[0m         loss \u001b[38;5;241m=\u001b[39m \u001b[38;5;241m0\u001b[39m\n\u001b[1;32m     36\u001b[0m     \u001b[38;5;28;01melse\u001b[39;00m:\n\u001b[1;32m     37\u001b[0m         \u001b[38;5;66;03m# If desired_output is array\u001b[39;00m\n\u001b[1;32m     38\u001b[0m         \u001b[38;5;66;03m#full_prediction = self.model.predict_proba_instance(counterfactual_instance)\u001b[39;00m\n\u001b[1;32m     39\u001b[0m         \u001b[38;5;66;03m#counterfactual_prediction = full_prediction[desired_output[0]]\u001b[39;00m\n",
      "\u001b[0;31mIndexError\u001b[0m: invalid index to scalar variable."
     ]
    }
   ],
   "source": [
    "counterfactuals = search.find_counterfactuals(target_instance, number_cf=1, desired_class=\"opposite\", maxiterations=50)"
   ]
  },
  {
   "cell_type": "markdown",
   "metadata": {},
   "source": []
  },
  {
   "cell_type": "markdown",
   "metadata": {},
   "source": [
    "## Evaluation and Visualization\n",
    "Once the counterfactuals are generated, it's crucial to evaluate and visualize them. This helps in understanding how the counterfactuals differ from the original instance and assessing their quality."
   ]
  },
  {
   "cell_type": "code",
   "execution_count": null,
   "metadata": {},
   "outputs": [
    {
     "name": "stdout",
     "output_type": "stream",
     "text": [
      "Feature ApplicantIncome changed its value from -0.13149591358318327 to 2.100909486731889\n",
      "Feature CoapplicantIncome changed its value from -0.548056854219573 to 8.689801666104485\n",
      "Feature LoanAmount changed its value from -0.15222625083722335 to 2.423117778596943\n",
      "Feature Loan_Amount_Term changed its value from 0.27283157074447584 to -0.6103216467793675\n",
      "Feature Gender changed its value from 1 to 0\n",
      "Feature Married changed its value from 1 to 0\n",
      "Feature Dependents changed its value from 2 to 0\n",
      "Feature Education changed its value from 0 to 1\n",
      "Feature Self_Employed changed its value from 0 to 1\n",
      "Feature Property_Area changed its value from 2 to 2\n",
      "Feature Credit_History changed its value from 1 to 1\n",
      "CF instance:  {'Gender': 0, 'Married': 0, 'Dependents': 0, 'Education': 1, 'Self_Employed': 1, 'Property_Area': 2, 'Credit_History': 1, 'ApplicantIncome': 2.100909486731889, 'CoapplicantIncome': 8.689801666104485, 'LoanAmount': 2.423117778596943, 'Loan_Amount_Term': -0.6103216467793675}\n",
      "Distance continuous:  14.92876116759714\n",
      "Distance categorical:  5\n",
      "Sparsity continuous:  4\n",
      "Sparsity categorical:  5\n",
      "Validity:  True\n",
      "Coherence:  0.5454545454545454  incoherent features are  ['CoapplicantIncome', 'Gender', 'Married']\n",
      "Query instance (original outcome : 1)\n"
     ]
    },
    {
     "data": {
      "text/html": [
       "<div>\n",
       "<style scoped>\n",
       "    .dataframe tbody tr th:only-of-type {\n",
       "        vertical-align: middle;\n",
       "    }\n",
       "\n",
       "    .dataframe tbody tr th {\n",
       "        vertical-align: top;\n",
       "    }\n",
       "\n",
       "    .dataframe thead th {\n",
       "        text-align: right;\n",
       "    }\n",
       "</style>\n",
       "<table border=\"1\" class=\"dataframe\">\n",
       "  <thead>\n",
       "    <tr style=\"text-align: right;\">\n",
       "      <th></th>\n",
       "      <th>Gender</th>\n",
       "      <th>Married</th>\n",
       "      <th>Dependents</th>\n",
       "      <th>Education</th>\n",
       "      <th>Self_Employed</th>\n",
       "      <th>Property_Area</th>\n",
       "      <th>Credit_History</th>\n",
       "      <th>ApplicantIncome</th>\n",
       "      <th>CoapplicantIncome</th>\n",
       "      <th>LoanAmount</th>\n",
       "      <th>Loan_Amount_Term</th>\n",
       "    </tr>\n",
       "  </thead>\n",
       "  <tbody>\n",
       "    <tr>\n",
       "      <th>0</th>\n",
       "      <td>Male</td>\n",
       "      <td>Yes</td>\n",
       "      <td>2</td>\n",
       "      <td>Graduate</td>\n",
       "      <td>No</td>\n",
       "      <td>Urban</td>\n",
       "      <td>1.0</td>\n",
       "      <td>4616.0</td>\n",
       "      <td>0.0</td>\n",
       "      <td>134.0</td>\n",
       "      <td>360.0</td>\n",
       "    </tr>\n",
       "  </tbody>\n",
       "</table>\n",
       "</div>"
      ],
      "text/plain": [
       "  Gender Married Dependents Education Self_Employed Property_Area  \\\n",
       "0   Male     Yes          2  Graduate            No         Urban   \n",
       "\n",
       "   Credit_History  ApplicantIncome  CoapplicantIncome  LoanAmount  \\\n",
       "0             1.0           4616.0                0.0       134.0   \n",
       "\n",
       "   Loan_Amount_Term  \n",
       "0             360.0  "
      ]
     },
     "metadata": {},
     "output_type": "display_data"
    },
    {
     "name": "stdout",
     "output_type": "stream",
     "text": [
      "\n",
      "Counterfactual set (new outcome: 0)\n"
     ]
    },
    {
     "data": {
      "text/html": [
       "<div>\n",
       "<style scoped>\n",
       "    .dataframe tbody tr th:only-of-type {\n",
       "        vertical-align: middle;\n",
       "    }\n",
       "\n",
       "    .dataframe tbody tr th {\n",
       "        vertical-align: top;\n",
       "    }\n",
       "\n",
       "    .dataframe thead th {\n",
       "        text-align: right;\n",
       "    }\n",
       "</style>\n",
       "<table border=\"1\" class=\"dataframe\">\n",
       "  <thead>\n",
       "    <tr style=\"text-align: right;\">\n",
       "      <th></th>\n",
       "      <th>Gender</th>\n",
       "      <th>Married</th>\n",
       "      <th>Dependents</th>\n",
       "      <th>Education</th>\n",
       "      <th>Self_Employed</th>\n",
       "      <th>Property_Area</th>\n",
       "      <th>Credit_History</th>\n",
       "      <th>ApplicantIncome</th>\n",
       "      <th>CoapplicantIncome</th>\n",
       "      <th>LoanAmount</th>\n",
       "      <th>Loan_Amount_Term</th>\n",
       "    </tr>\n",
       "  </thead>\n",
       "  <tbody>\n",
       "    <tr>\n",
       "      <th>0</th>\n",
       "      <td>Female</td>\n",
       "      <td>No</td>\n",
       "      <td>0</td>\n",
       "      <td>Not Graduate</td>\n",
       "      <td>Yes</td>\n",
       "      <td>-</td>\n",
       "      <td>-</td>\n",
       "      <td>18522.50824405784</td>\n",
       "      <td>27651.411861004377</td>\n",
       "      <td>356.36170197068157</td>\n",
       "      <td>302.2045977084699</td>\n",
       "    </tr>\n",
       "  </tbody>\n",
       "</table>\n",
       "</div>"
      ],
      "text/plain": [
       "   Gender Married Dependents     Education Self_Employed Property_Area  \\\n",
       "0  Female      No          0  Not Graduate           Yes             -   \n",
       "\n",
       "  Credit_History    ApplicantIncome   CoapplicantIncome          LoanAmount  \\\n",
       "0              -  18522.50824405784  27651.411861004377  356.36170197068157   \n",
       "\n",
       "    Loan_Amount_Term  \n",
       "0  302.2045977084699  "
      ]
     },
     "metadata": {},
     "output_type": "display_data"
    }
   ],
   "source": [
    "# Evaluate and visualize the counterfactuals\n",
    "search.evaluate_counterfactuals(target_instance, counterfactuals)\n",
    "\n",
    "# Display the counterfactuals and original instance in the notebook\n",
    "display_df = search.visualize_as_dataframe(target_instance, counterfactuals)"
   ]
  },
  {
   "cell_type": "markdown",
   "metadata": {},
   "source": [
    "## Storing the Results\n",
    "For reproducibility and further analysis, we'll store the counterfactuals and their evaluations in designated folders."
   ]
  },
  {
   "cell_type": "code",
   "execution_count": null,
   "metadata": {},
   "outputs": [],
   "source": [
    "# Store results\n",
    "search.store_counterfactuals(config.get_config_value(\"output_folder\"), \"homeloan_first_test\")\n",
    "search.store_evaluations(config.get_config_value(\"output_folder\"), \"homeloan_first_eval\")"
   ]
  },
  {
   "cell_type": "code",
   "execution_count": null,
   "metadata": {},
   "outputs": [],
   "source": []
  },
  {
   "cell_type": "code",
   "execution_count": null,
   "metadata": {},
   "outputs": [],
   "source": []
  }
 ],
 "metadata": {
  "kernelspec": {
   "display_name": "trustce",
   "language": "python",
   "name": "python3"
  },
  "language_info": {
   "codemirror_mode": {
    "name": "ipython",
    "version": 3
   },
   "file_extension": ".py",
   "mimetype": "text/x-python",
   "name": "python",
   "nbconvert_exporter": "python",
   "pygments_lexer": "ipython3",
   "version": "3.10.13"
  }
 },
 "nbformat": 4,
 "nbformat_minor": 2
}
