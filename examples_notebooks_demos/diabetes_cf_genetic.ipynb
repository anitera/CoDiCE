{
 "cells": [
  {
   "cell_type": "markdown",
   "metadata": {},
   "source": [
    "## Setting Up and Importing Libraries\n",
    "In this step, we'll import the necessary libraries and modules. We'll also ensure the correct path is set to access our custom modules."
   ]
  },
  {
   "cell_type": "code",
   "execution_count": 1,
   "metadata": {},
   "outputs": [],
   "source": [
    "# Import necessary libraries\n",
    "import pandas as pd\n",
    "import os\n",
    "import sys\n",
    "import json\n"
   ]
  },
  {
   "cell_type": "code",
   "execution_count": 2,
   "metadata": {},
   "outputs": [
    {
     "name": "stdout",
     "output_type": "stream",
     "text": [
      "/home/rita/TRUST_AI/trustframework/trustCE\n"
     ]
    }
   ],
   "source": [
    "# Make sure that the current working directory is the parent directory of the project\n",
    "os.chdir(os.path.join(os.getcwd(), '..'))\n",
    "print(os.getcwd())"
   ]
  },
  {
   "cell_type": "code",
   "execution_count": 3,
   "metadata": {},
   "outputs": [],
   "source": [
    "from codice.cfsearch import CFsearch\n",
    "from codice.dataset import Dataset\n",
    "from codice.cemodels.base_model import BaseModel\n",
    "from codice.cemodels.sklearn_model import SklearnModel\n",
    "from codice.ceinstance.instance_sampler import CEInstanceSampler\n",
    "from codice.config import Config\n",
    "from codice.transformer import Transformer\n",
    "from codice.ceinstance.instance_factory import InstanceFactory\n",
    "from codice import load_datasets"
   ]
  },
  {
   "cell_type": "markdown",
   "metadata": {},
   "source": [
    "## Loading Configuration\n",
    "Here, we'll load our configuration files which dictate various parameters for our counterfactual search. It includes dataset details, feature management, and other related configurations."
   ]
  },
  {
   "cell_type": "code",
   "execution_count": 4,
   "metadata": {},
   "outputs": [
    {
     "name": "stdout",
     "output_type": "stream",
     "text": [
      "Configuration Loaded:\n",
      "<codice.config.Config object at 0x7f7197983ca0>\n"
     ]
    }
   ],
   "source": [
    "# Load configuration\n",
    "config_file_path = \"config/conf_diabetes.yaml\"\n",
    "config = Config(config_file_path)\n",
    "\n",
    "with open(\"config/constraints_conf_diabetes.json\", 'r') as file:\n",
    "    constraints = json.load(file)\n",
    "\n",
    "print(\"Configuration Loaded:\")\n",
    "print(config)"
   ]
  },
  {
   "cell_type": "markdown",
   "metadata": {},
   "source": [
    "## Preparing Dataset and Model\n",
    "In this section, we initialize our dataset, model, and the required transformers. We'll also define a sample instance for which we wish to find the counterfactuals."
   ]
  },
  {
   "cell_type": "code",
   "execution_count": 5,
   "metadata": {},
   "outputs": [
    {
     "name": "stdout",
     "output_type": "stream",
     "text": [
      "Index(['Number of times pregnant',\n",
      "       'Plasma glucose concentration a 2 hours in an oral glucose tolerance test',\n",
      "       'Diastolic blood pressure (mm Hg)', 'Triceps skin fold thickness (mm)',\n",
      "       '2-Hour serum insulin (mu U/ml)',\n",
      "       'Body mass index (weight in kg/(height in m)^2)',\n",
      "       'Diabetes pedigree function', 'Age (years)', 'Class variable'],\n",
      "      dtype='object')\n",
      "Accuracy on training set:  0.7756874095513748\n",
      "Accuracy on test set:  0.7012987012987013\n"
     ]
    }
   ],
   "source": [
    "from sklearn.model_selection import train_test_split\n",
    "from sklearn.metrics import accuracy_score, f1_score, recall_score, precision_score\n",
    "from sklearn.pipeline import Pipeline\n",
    "from sklearn.preprocessing import StandardScaler\n",
    "from sklearn.linear_model import LogisticRegression\n",
    "\n",
    "\n",
    "# Loading dataset and trianing model\n",
    "input=pd.read_csv('datasets/diabetes.csv',sep=',')\n",
    "\n",
    "#get X and y\n",
    "print(input.columns)\n",
    "X=input.copy().drop(['Class variable'], axis=1)\n",
    "y=input.copy()['Class variable']\n",
    "#scaler = MinMaxScaler()\n",
    "#X_normalized = scaler.fit_transform(X)\n",
    "\n",
    "# Splitting the data into training and testing sets\n",
    "X_train, X_test, y_train, y_test = train_test_split(X, y, test_size=0.1, random_state=42)\n",
    "\n",
    "# Optimized parameters\n",
    "C_optimized = 0.23357214690901212\n",
    "class_weight_optimized = 'balanced'\n",
    "solver_optimized = 'liblinear'\n",
    "model_pipeline = Pipeline([\n",
    "    ('scaler', StandardScaler()),\n",
    "    ('model', LogisticRegression(max_iter=1000))\n",
    "])\n",
    "model_pipeline.fit(X_train, y_train)\n",
    "# Check the accuracy of the model\n",
    "print(\"Accuracy on training set: \", model_pipeline.score(X_train, y_train))\n",
    "print(\"Accuracy on test set: \", model_pipeline.score(X_test, y_test))"
   ]
  },
  {
   "cell_type": "code",
   "execution_count": 6,
   "metadata": {},
   "outputs": [],
   "source": [
    "# Set the target instance path\n",
    "target_instance_json = \"input_instance/instance_diabetes.json\"\n",
    "\n",
    "# Load the dataset and set up the necessary objects\n",
    "load_datasets.download(\"diabetes\")"
   ]
  },
  {
   "cell_type": "code",
   "execution_count": 7,
   "metadata": {},
   "outputs": [
    {
     "name": "stdout",
     "output_type": "stream",
     "text": [
      "Features verified\n",
      "Continious features: ['Number of times pregnant', 'Plasma glucose concentration a 2 hours in an oral glucose tolerance test', 'Diastolic blood pressure (mm Hg)', 'Triceps skin fold thickness (mm)', '2-Hour serum insulin (mu U/ml)', 'Body mass index (weight in kg/(height in m)^2)', 'Diabetes pedigree function', 'Age (years)']\n",
      "Categorical features: []\n",
      "Dataset preprocessed\n",
      "Feature: Diastolic blood pressure (mm Hg)\n",
      "Range: [0, 122]\n",
      "Feature: Age (years)\n",
      "Range: [21, 81]\n",
      "Feature: Diabetes pedigree function\n",
      "Range: [0.078, 2.42]\n",
      "Feature: Plasma glucose concentration a 2 hours in an oral glucose tolerance test\n",
      "Range: [0, 199]\n",
      "Feature: Triceps skin fold thickness (mm)\n",
      "Range: [0, 99]\n",
      "Feature: Body mass index (weight in kg/(height in m)^2)\n",
      "Range: [0.0, 67.1]\n",
      "Feature: 2-Hour serum insulin (mu U/ml)\n",
      "Range: [0, 846]\n",
      "Feature: Number of times pregnant\n",
      "Range: [0, 17]\n",
      "Constraint Type: immutable\n"
     ]
    }
   ],
   "source": [
    "data = Dataset(config.get_config_value(\"dataset\"), \"Class variable\")\n",
    "normalization_transformer = Transformer(data, config)\n",
    "instance_factory = InstanceFactory(data)\n",
    "sampler = CEInstanceSampler(config, normalization_transformer, instance_factory)\n",
    "\n",
    "model = BaseModel(config.get_config_value(\"model\"), model_pipeline)"
   ]
  },
  {
   "cell_type": "code",
   "execution_count": null,
   "metadata": {},
   "outputs": [],
   "source": []
  },
  {
   "cell_type": "markdown",
   "metadata": {},
   "source": [
    "## Finding Counterfactuals\n",
    "With everything set up, we'll now search for counterfactuals for our sample instance using the CFsearch object."
   ]
  },
  {
   "cell_type": "code",
   "execution_count": 8,
   "metadata": {},
   "outputs": [],
   "source": [
    "# Create a CFsearch object\n",
    "config_for_cfsearch = config.get_config_value(\"cfsearch\")\n",
    "search = CFsearch(normalization_transformer, model, sampler, config,\n",
    "                  optimizer_name=config_for_cfsearch[\"optimizer\"], \n",
    "                  distance_continuous=config_for_cfsearch[\"continuous_distance\"], \n",
    "                  distance_categorical=config_for_cfsearch[\"categorical_distance\"], \n",
    "                  loss_type=config_for_cfsearch[\"loss_type\"], \n",
    "                  coherence=config_for_cfsearch[\"coherence\"],\n",
    "                  objective_function_weights=config_for_cfsearch[\"objective_function_weights\"])\n",
    "\n",
    "# Load target instance and find counterfactuals\n",
    "with open(target_instance_json, 'r') as file:\n",
    "    target_instance_json_content = file.read()\n",
    "\n",
    "target_instance = instance_factory.create_instance_from_json(target_instance_json_content)"
   ]
  },
  {
   "cell_type": "code",
   "execution_count": 9,
   "metadata": {},
   "outputs": [
    {
     "name": "stdout",
     "output_type": "stream",
     "text": [
      "Get values of one population item {'Number of times pregnant': 0, 'Plasma glucose concentration a 2 hours in an oral glucose tolerance test': 111.79337120315033, 'Diastolic blood pressure (mm Hg)': 63.63224496794753, 'Triceps skin fold thickness (mm)': 55.77740876057779, '2-Hour serum insulin (mu U/ml)': 512.6466044514375, 'Body mass index (weight in kg/(height in m)^2)': 44.15282177282836, 'Diabetes pedigree function': 1.4354574992214515, 'Age (years)': 77.0401721421106}\n",
      "Valid counterfactuals were found:  {'Number of times pregnant': 0, 'Plasma glucose concentration a 2 hours in an oral glucose tolerance test': 41.76982703433251, 'Diastolic blood pressure (mm Hg)': 76.93875078855744, 'Triceps skin fold thickness (mm)': 6.538265247996674, '2-Hour serum insulin (mu U/ml)': 543.9708577225455, 'Body mass index (weight in kg/(height in m)^2)': 39.72825381536026, 'Diabetes pedigree function': 2.2129718395235236, 'Age (years)': 32.924782441193976}\n"
     ]
    }
   ],
   "source": [
    "counterfactuals = search.find_counterfactuals(target_instance, number_cf=1, desired_class=\"opposite\", maxiterations=50)"
   ]
  },
  {
   "cell_type": "markdown",
   "metadata": {},
   "source": []
  },
  {
   "cell_type": "markdown",
   "metadata": {},
   "source": [
    "## Evaluation and Visualization\n",
    "Once the counterfactuals are generated, it's crucial to evaluate and visualize them. This helps in understanding how the counterfactuals differ from the original instance and assessing their quality."
   ]
  },
  {
   "cell_type": "code",
   "execution_count": 10,
   "metadata": {},
   "outputs": [
    {
     "name": "stdout",
     "output_type": "stream",
     "text": [
      "Feature Number of times pregnant changed its value from 0 to 0\n",
      "Feature Plasma glucose concentration a 2 hours in an oral glucose tolerance test changed its value from 137 to 41.76982703433251\n",
      "Feature Diastolic blood pressure (mm Hg) changed its value from 40 to 76.93875078855744\n",
      "Feature Triceps skin fold thickness (mm) changed its value from 35 to 6.538265247996674\n",
      "Feature 2-Hour serum insulin (mu U/ml) changed its value from 168 to 543.9708577225455\n",
      "Feature Body mass index (weight in kg/(height in m)^2) changed its value from 43.1 to 39.72825381536026\n",
      "Feature Diabetes pedigree function changed its value from 2.2880000000000003 to 2.2129718395235236\n",
      "Feature Age (years) changed its value from 33 to 32.924782441193976\n",
      "CF instance:  {'Number of times pregnant': 0, 'Plasma glucose concentration a 2 hours in an oral glucose tolerance test': 41.76982703433251, 'Diastolic blood pressure (mm Hg)': 76.93875078855744, 'Triceps skin fold thickness (mm)': 6.538265247996674, '2-Hour serum insulin (mu U/ml)': 543.9708577225455, 'Body mass index (weight in kg/(height in m)^2)': 39.72825381536026, 'Diabetes pedigree function': 2.2129718395235236, 'Age (years)': 32.924782441193976}\n",
      "Distance continuous:  0.2267942346986166\n",
      "Distance categorical:  0\n",
      "Sparsity continuous:  7\n",
      "Sparsity categorical:  0\n",
      "Validity:  True\n",
      "Coherence:  0.875  incoherent features are  []\n",
      "Query instance (original outcome : 1)\n"
     ]
    },
    {
     "data": {
      "text/html": [
       "<div>\n",
       "<style scoped>\n",
       "    .dataframe tbody tr th:only-of-type {\n",
       "        vertical-align: middle;\n",
       "    }\n",
       "\n",
       "    .dataframe tbody tr th {\n",
       "        vertical-align: top;\n",
       "    }\n",
       "\n",
       "    .dataframe thead th {\n",
       "        text-align: right;\n",
       "    }\n",
       "</style>\n",
       "<table border=\"1\" class=\"dataframe\">\n",
       "  <thead>\n",
       "    <tr style=\"text-align: right;\">\n",
       "      <th></th>\n",
       "      <th>Number of times pregnant</th>\n",
       "      <th>Plasma glucose concentration a 2 hours in an oral glucose tolerance test</th>\n",
       "      <th>Diastolic blood pressure (mm Hg)</th>\n",
       "      <th>Triceps skin fold thickness (mm)</th>\n",
       "      <th>2-Hour serum insulin (mu U/ml)</th>\n",
       "      <th>Body mass index (weight in kg/(height in m)^2)</th>\n",
       "      <th>Diabetes pedigree function</th>\n",
       "      <th>Age (years)</th>\n",
       "    </tr>\n",
       "  </thead>\n",
       "  <tbody>\n",
       "    <tr>\n",
       "      <th>0</th>\n",
       "      <td>0</td>\n",
       "      <td>137</td>\n",
       "      <td>40</td>\n",
       "      <td>35</td>\n",
       "      <td>168</td>\n",
       "      <td>43.1</td>\n",
       "      <td>2.288</td>\n",
       "      <td>33</td>\n",
       "    </tr>\n",
       "  </tbody>\n",
       "</table>\n",
       "</div>"
      ],
      "text/plain": [
       "   Number of times pregnant  \\\n",
       "0                         0   \n",
       "\n",
       "   Plasma glucose concentration a 2 hours in an oral glucose tolerance test  \\\n",
       "0                                                137                          \n",
       "\n",
       "   Diastolic blood pressure (mm Hg)  Triceps skin fold thickness (mm)  \\\n",
       "0                                40                                35   \n",
       "\n",
       "   2-Hour serum insulin (mu U/ml)  \\\n",
       "0                             168   \n",
       "\n",
       "   Body mass index (weight in kg/(height in m)^2)  Diabetes pedigree function  \\\n",
       "0                                            43.1                       2.288   \n",
       "\n",
       "   Age (years)  \n",
       "0           33  "
      ]
     },
     "metadata": {},
     "output_type": "display_data"
    },
    {
     "name": "stdout",
     "output_type": "stream",
     "text": [
      "\n",
      "Counterfactual set (new outcome: [array([0])])\n"
     ]
    },
    {
     "data": {
      "text/html": [
       "<div>\n",
       "<style scoped>\n",
       "    .dataframe tbody tr th:only-of-type {\n",
       "        vertical-align: middle;\n",
       "    }\n",
       "\n",
       "    .dataframe tbody tr th {\n",
       "        vertical-align: top;\n",
       "    }\n",
       "\n",
       "    .dataframe thead th {\n",
       "        text-align: right;\n",
       "    }\n",
       "</style>\n",
       "<table border=\"1\" class=\"dataframe\">\n",
       "  <thead>\n",
       "    <tr style=\"text-align: right;\">\n",
       "      <th></th>\n",
       "      <th>Number of times pregnant</th>\n",
       "      <th>Plasma glucose concentration a 2 hours in an oral glucose tolerance test</th>\n",
       "      <th>Diastolic blood pressure (mm Hg)</th>\n",
       "      <th>Triceps skin fold thickness (mm)</th>\n",
       "      <th>2-Hour serum insulin (mu U/ml)</th>\n",
       "      <th>Body mass index (weight in kg/(height in m)^2)</th>\n",
       "      <th>Diabetes pedigree function</th>\n",
       "      <th>Age (years)</th>\n",
       "    </tr>\n",
       "  </thead>\n",
       "  <tbody>\n",
       "    <tr>\n",
       "      <th>0</th>\n",
       "      <td>-</td>\n",
       "      <td>41.76982703433251</td>\n",
       "      <td>76.93875078855744</td>\n",
       "      <td>6.538265247996674</td>\n",
       "      <td>543.9708577225455</td>\n",
       "      <td>39.72825381536026</td>\n",
       "      <td>2.2129718395235236</td>\n",
       "      <td>32.924782441193976</td>\n",
       "    </tr>\n",
       "  </tbody>\n",
       "</table>\n",
       "</div>"
      ],
      "text/plain": [
       "  Number of times pregnant  \\\n",
       "0                        -   \n",
       "\n",
       "  Plasma glucose concentration a 2 hours in an oral glucose tolerance test  \\\n",
       "0                                  41.76982703433251                         \n",
       "\n",
       "  Diastolic blood pressure (mm Hg) Triceps skin fold thickness (mm)  \\\n",
       "0                76.93875078855744                6.538265247996674   \n",
       "\n",
       "  2-Hour serum insulin (mu U/ml)  \\\n",
       "0              543.9708577225455   \n",
       "\n",
       "  Body mass index (weight in kg/(height in m)^2) Diabetes pedigree function  \\\n",
       "0                              39.72825381536026         2.2129718395235236   \n",
       "\n",
       "          Age (years)  \n",
       "0  32.924782441193976  "
      ]
     },
     "metadata": {},
     "output_type": "display_data"
    },
    {
     "data": {
      "text/plain": [
       "None"
      ]
     },
     "metadata": {},
     "output_type": "display_data"
    }
   ],
   "source": [
    "# Evaluate and visualize the counterfactuals\n",
    "search.evaluate_counterfactuals(target_instance, counterfactuals)\n",
    "\n",
    "# Display the counterfactuals and original instance in the notebook\n",
    "display_df = search.visualize_as_dataframe(target_instance, counterfactuals)\n",
    "display(display_df)"
   ]
  },
  {
   "cell_type": "markdown",
   "metadata": {},
   "source": [
    "## Storing the Results\n",
    "For reproducibility and further analysis, we'll store the counterfactuals and their evaluations in designated folders."
   ]
  },
  {
   "cell_type": "code",
   "execution_count": 11,
   "metadata": {},
   "outputs": [
    {
     "name": "stdout",
     "output_type": "stream",
     "text": [
      "Store counterfactuals to  results/diabetes_first_test_0.json\n",
      "Store counterfactuals evaluation to  results/diabetes_first_test_eval_0.json\n"
     ]
    }
   ],
   "source": [
    "# Store results\n",
    "search.store_counterfactuals(config.get_config_value(\"output_folder\"), \"diabetes_first_test\")\n",
    "search.store_evaluations(config.get_config_value(\"output_folder\"), \"diabetes_first_test\")"
   ]
  },
  {
   "cell_type": "code",
   "execution_count": null,
   "metadata": {},
   "outputs": [],
   "source": []
  },
  {
   "cell_type": "code",
   "execution_count": null,
   "metadata": {},
   "outputs": [],
   "source": []
  }
 ],
 "metadata": {
  "kernelspec": {
   "display_name": "codice",
   "language": "python",
   "name": "python3"
  },
  "language_info": {
   "codemirror_mode": {
    "name": "ipython",
    "version": 3
   },
   "file_extension": ".py",
   "mimetype": "text/x-python",
   "name": "python",
   "nbconvert_exporter": "python",
   "pygments_lexer": "ipython3",
   "version": "3.10.13"
  }
 },
 "nbformat": 4,
 "nbformat_minor": 2
}
