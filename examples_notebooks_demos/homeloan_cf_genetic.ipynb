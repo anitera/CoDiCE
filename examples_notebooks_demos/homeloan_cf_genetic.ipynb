{
 "cells": [
  {
   "cell_type": "markdown",
   "metadata": {},
   "source": [
    "## Setting Up and Importing Libraries\n",
    "In this step, we'll import the necessary libraries and modules. We'll also ensure the correct path is set to access our custom modules."
   ]
  },
  {
   "cell_type": "code",
   "execution_count": 1,
   "metadata": {},
   "outputs": [
    {
     "name": "stdout",
     "output_type": "stream",
     "text": [
      "/home/rita/TRUST_AI/trustframework/trustCE\n"
     ]
    }
   ],
   "source": [
    "# Import necessary libraries\n",
    "import pandas as pd\n",
    "import os\n",
    "import sys\n",
    "import json\n",
    "\n",
    "os.chdir(os.path.join(os.getcwd(), '..'))\n",
    "print(os.getcwd())\n",
    "\n",
    "from src.cfsearch import CFsearch\n",
    "from src.dataset import Dataset\n",
    "from src.explainable_model import ExplainableModel\n",
    "from src.ceinstance.instance_sampler import CEInstanceSampler\n",
    "from src.config import Config\n",
    "from src.transformer import Transformer\n",
    "from src.ceinstance.instance_factory import InstanceFactory"
   ]
  },
  {
   "cell_type": "markdown",
   "metadata": {},
   "source": [
    "## Loading Configuration\n",
    "Here, we'll load our configuration files which dictate various parameters for our counterfactual search. It includes dataset details, feature management, and other related configurations."
   ]
  },
  {
   "cell_type": "code",
   "execution_count": 2,
   "metadata": {},
   "outputs": [
    {
     "name": "stdout",
     "output_type": "stream",
     "text": [
      "Configuration Loaded:\n",
      "<src.config.Config object at 0x7fcb3c498460>\n"
     ]
    }
   ],
   "source": [
    "# Load configuration\n",
    "config_file_path = \"config/conf.yaml\"\n",
    "config = Config(config_file_path)\n",
    "\n",
    "with open(\"config/constraints_conf.json\", 'r') as file:\n",
    "    constraints = json.load(file)\n",
    "\n",
    "print(\"Configuration Loaded:\")\n",
    "print(config)"
   ]
  },
  {
   "cell_type": "markdown",
   "metadata": {},
   "source": [
    "## Preparing Dataset and Model\n",
    "In this section, we initialize our dataset, model, and the required transformers. We'll also define a sample instance for which we wish to find the counterfactuals."
   ]
  },
  {
   "cell_type": "code",
   "execution_count": 3,
   "metadata": {},
   "outputs": [
    {
     "name": "stdout",
     "output_type": "stream",
     "text": [
      "Features verified\n",
      "Continious features: ['ApplicantIncome', 'CoapplicantIncome', 'LoanAmount', 'Loan_Amount_Term', 'Credit_History']\n",
      "Categorical features: ['Gender', 'Married', 'Dependents', 'Education', 'Self_Employed', 'Property_Area']\n",
      "Dataset preprocessed\n",
      "Feature: CoapplicantIncome\n",
      "Range: [-0.548056854219573, 13.372167288446008]\n",
      "Feature: Credit_History\n",
      "Range: [-2.511080956910919, 0.3975458829578409]\n",
      "Feature: Self_Employed\n",
      "Range: [0, 1]\n",
      "Feature: Married\n",
      "Range: [0, 1]\n",
      "Feature: Property_Area\n",
      "Range: [0, 1]\n",
      "Feature: Loan_Amount_Term\n",
      "Range: [-5.044846090672854, 2.106513522957348]\n",
      "Feature: LoanAmount\n",
      "Range: [-1.5999485916282457, 6.4030605082645256]\n",
      "Feature: ApplicantIncome\n",
      "Range: [-0.8484208485011342, 12.13039262846177]\n",
      "Feature: Dependents\n",
      "Range: [0, 1]\n",
      "Feature: Education\n",
      "Range: [0, 1]\n",
      "Feature: Gender\n",
      "Range: [0, 1]\n",
      "Constraint Type: immutable\n",
      "Sanity check for model\n",
      "Model input shape is  11\n"
     ]
    },
    {
     "name": "stderr",
     "output_type": "stream",
     "text": [
      "/home/rita/TRUST_AI/trustframework/trustCE/trustce/lib/python3.9/site-packages/sklearn/base.py:348: InconsistentVersionWarning: Trying to unpickle estimator LogisticRegression from version 1.2.2 when using version 1.3.1. This might lead to breaking code or invalid results. Use at your own risk. For more info please refer to:\n",
      "https://scikit-learn.org/stable/model_persistence.html#security-maintainability-limitations\n",
      "  warnings.warn(\n",
      "/home/rita/TRUST_AI/trustframework/trustCE/trustce/lib/python3.9/site-packages/sklearn/base.py:465: UserWarning: X does not have valid feature names, but LogisticRegression was fitted with feature names\n",
      "  warnings.warn(\n"
     ]
    }
   ],
   "source": [
    "# Set the target instance path\n",
    "target_instance_json = \"datasets/instance.json\"\n",
    "\n",
    "# Load the dataset and set up the necessary objects\n",
    "data = Dataset(config.get_config_value(\"dataset\"), \"Loan_Status\")\n",
    "normalization_transformer = Transformer(data, config.get_config_value(\"feature_manager\"))\n",
    "instance_factory = InstanceFactory(data)\n",
    "sampler = CEInstanceSampler(config, normalization_transformer, instance_factory)\n",
    "\n",
    "model = ExplainableModel(config.get_config_value(\"model\"))"
   ]
  },
  {
   "cell_type": "markdown",
   "metadata": {},
   "source": [
    "## Finding Counterfactuals\n",
    "With everything set up, we'll now search for counterfactuals for our sample instance using the CFsearch object."
   ]
  },
  {
   "cell_type": "code",
   "execution_count": 4,
   "metadata": {},
   "outputs": [],
   "source": [
    "# Create a CFsearch object\n",
    "config_for_cfsearch = config.get_config_value(\"cfsearch\")\n",
    "search = CFsearch(normalization_transformer, model, sampler, algorithm=config_for_cfsearch[\"optimizer\"], \n",
    "                  distance_continuous=config_for_cfsearch[\"continuous_distance\"], \n",
    "                  distance_categorical=config_for_cfsearch[\"categorical_distance\"], \n",
    "                  loss_type=config_for_cfsearch[\"loss_type\"], \n",
    "                  coherence=config_for_cfsearch[\"coherence\"],\n",
    "                  objective_function_weights=config_for_cfsearch[\"objective_function_weights\"])\n",
    "\n",
    "# Load target instance and find counterfactuals\n",
    "with open(target_instance_json, 'r') as file:\n",
    "    target_instance_json_content = file.read()\n",
    "\n",
    "target_instance = instance_factory.create_instance_from_json(target_instance_json_content)"
   ]
  },
  {
   "cell_type": "code",
   "execution_count": 5,
   "metadata": {},
   "outputs": [],
   "source": [
    "counterfactuals = search.find_counterfactuals(target_instance, 1, \"opposite\", 50)"
   ]
  },
  {
   "cell_type": "markdown",
   "metadata": {},
   "source": [
    "## Evaluation and Visualization\n",
    "Once the counterfactuals are generated, it's crucial to evaluate and visualize them. This helps in understanding how the counterfactuals differ from the original instance and assessing their quality."
   ]
  },
  {
   "cell_type": "code",
   "execution_count": 6,
   "metadata": {},
   "outputs": [
    {
     "name": "stdout",
     "output_type": "stream",
     "text": [
      "CF instance:  {'Gender': 1, 'Married': 0, 'Dependents': 1, 'Education': 1, 'Self_Employed': 0, 'Property_Area': 0, 'ApplicantIncome': 7.980840017818599, 'CoapplicantIncome': 6.137497592499862, 'LoanAmount': 2.618565137070548, 'Loan_Amount_Term': -2.7065572315492057, 'Credit_History': -0.8135212565679412}\n",
      "Distance continuous:  22.892071122370716\n",
      "Distance categorical:  3\n",
      "Sparsity continuous:  5\n",
      "Sparsity categorical:  3\n",
      "Validity:  False\n",
      "Query instance (original outcome : 0)\n"
     ]
    },
    {
     "data": {
      "text/html": [
       "<div>\n",
       "<style scoped>\n",
       "    .dataframe tbody tr th:only-of-type {\n",
       "        vertical-align: middle;\n",
       "    }\n",
       "\n",
       "    .dataframe tbody tr th {\n",
       "        vertical-align: top;\n",
       "    }\n",
       "\n",
       "    .dataframe thead th {\n",
       "        text-align: right;\n",
       "    }\n",
       "</style>\n",
       "<table border=\"1\" class=\"dataframe\">\n",
       "  <thead>\n",
       "    <tr style=\"text-align: right;\">\n",
       "      <th></th>\n",
       "      <th>Gender</th>\n",
       "      <th>Married</th>\n",
       "      <th>Dependents</th>\n",
       "      <th>Education</th>\n",
       "      <th>Self_Employed</th>\n",
       "      <th>Property_Area</th>\n",
       "      <th>ApplicantIncome</th>\n",
       "      <th>CoapplicantIncome</th>\n",
       "      <th>LoanAmount</th>\n",
       "      <th>Loan_Amount_Term</th>\n",
       "      <th>Credit_History</th>\n",
       "    </tr>\n",
       "  </thead>\n",
       "  <tbody>\n",
       "    <tr>\n",
       "      <th>0</th>\n",
       "      <td>1</td>\n",
       "      <td>1</td>\n",
       "      <td>1</td>\n",
       "      <td>1</td>\n",
       "      <td>1</td>\n",
       "      <td>1</td>\n",
       "      <td>-0.872309</td>\n",
       "      <td>-0.547016</td>\n",
       "      <td>-1.677108</td>\n",
       "      <td>-5.224045</td>\n",
       "      <td>-1.354768</td>\n",
       "    </tr>\n",
       "  </tbody>\n",
       "</table>\n",
       "</div>"
      ],
      "text/plain": [
       "   Gender  Married  Dependents  Education  Self_Employed  Property_Area  \\\n",
       "0       1        1           1          1              1              1   \n",
       "\n",
       "   ApplicantIncome  CoapplicantIncome  LoanAmount  Loan_Amount_Term  \\\n",
       "0        -0.872309          -0.547016   -1.677108         -5.224045   \n",
       "\n",
       "   Credit_History  \n",
       "0       -1.354768  "
      ]
     },
     "metadata": {},
     "output_type": "display_data"
    },
    {
     "name": "stdout",
     "output_type": "stream",
     "text": [
      "\n",
      "Counterfactual set (new outcome: [0])\n"
     ]
    },
    {
     "data": {
      "text/html": [
       "<div>\n",
       "<style scoped>\n",
       "    .dataframe tbody tr th:only-of-type {\n",
       "        vertical-align: middle;\n",
       "    }\n",
       "\n",
       "    .dataframe tbody tr th {\n",
       "        vertical-align: top;\n",
       "    }\n",
       "\n",
       "    .dataframe thead th {\n",
       "        text-align: right;\n",
       "    }\n",
       "</style>\n",
       "<table border=\"1\" class=\"dataframe\">\n",
       "  <thead>\n",
       "    <tr style=\"text-align: right;\">\n",
       "      <th></th>\n",
       "      <th>Gender</th>\n",
       "      <th>Married</th>\n",
       "      <th>Dependents</th>\n",
       "      <th>Education</th>\n",
       "      <th>Self_Employed</th>\n",
       "      <th>Property_Area</th>\n",
       "      <th>ApplicantIncome</th>\n",
       "      <th>CoapplicantIncome</th>\n",
       "      <th>LoanAmount</th>\n",
       "      <th>Loan_Amount_Term</th>\n",
       "      <th>Credit_History</th>\n",
       "    </tr>\n",
       "  </thead>\n",
       "  <tbody>\n",
       "    <tr>\n",
       "      <th>0</th>\n",
       "      <td>-</td>\n",
       "      <td>0</td>\n",
       "      <td>-</td>\n",
       "      <td>-</td>\n",
       "      <td>0</td>\n",
       "      <td>0</td>\n",
       "      <td>7.980840017818599</td>\n",
       "      <td>6.137497592499862</td>\n",
       "      <td>2.618565137070548</td>\n",
       "      <td>-2.7065572315492057</td>\n",
       "      <td>-0.8135212565679412</td>\n",
       "    </tr>\n",
       "  </tbody>\n",
       "</table>\n",
       "</div>"
      ],
      "text/plain": [
       "  Gender Married Dependents Education Self_Employed Property_Area  \\\n",
       "0      -       0          -         -             0             0   \n",
       "\n",
       "     ApplicantIncome  CoapplicantIncome         LoanAmount  \\\n",
       "0  7.980840017818599  6.137497592499862  2.618565137070548   \n",
       "\n",
       "      Loan_Amount_Term       Credit_History  \n",
       "0  -2.7065572315492057  -0.8135212565679412  "
      ]
     },
     "metadata": {},
     "output_type": "display_data"
    },
    {
     "data": {
      "text/plain": [
       "None"
      ]
     },
     "metadata": {},
     "output_type": "display_data"
    }
   ],
   "source": [
    "# Evaluate and visualize the counterfactuals\n",
    "search.evaluate_counterfactuals(target_instance, counterfactuals)\n",
    "\n",
    "# Display the counterfactuals and original instance in the notebook\n",
    "display_df = search.visualize_as_dataframe(target_instance, counterfactuals)\n",
    "display(display_df)"
   ]
  },
  {
   "cell_type": "markdown",
   "metadata": {},
   "source": [
    "## Storing the Results\n",
    "For reproducibility and further analysis, we'll store the counterfactuals and their evaluations in designated folders."
   ]
  },
  {
   "cell_type": "code",
   "execution_count": 7,
   "metadata": {},
   "outputs": [
    {
     "name": "stdout",
     "output_type": "stream",
     "text": [
      "Counterfactuals:\n",
      "{'Gender': 1, 'Married': 0, 'Dependents': 1, 'Education': 1, 'Self_Employed': 0, 'Property_Area': 0, 'ApplicantIncome': 7.980840017818599, 'CoapplicantIncome': 6.137497592499862, 'LoanAmount': 2.618565137070548, 'Loan_Amount_Term': -2.7065572315492057, 'Credit_History': -0.8135212565679412}\n",
      "Original instance:\n",
      "{'Gender': 1, 'Married': 1, 'Dependents': 1, 'Education': 1, 'Self_Employed': 1, 'Property_Area': 1, 'ApplicantIncome': -0.8723094327303865, 'CoapplicantIncome': -0.5470157982925149, 'LoanAmount': -1.6771080672486245, 'Loan_Amount_Term': -5.224045233166907, 'Credit_History': -1.3547683316604187}\n"
     ]
    }
   ],
   "source": [
    "# Store results\n",
    "search.store_counterfactuals(config.get_config_value(\"output_folder\"), \"first_test\")\n",
    "search.store_evaluations(config.get_config_value(\"output_folder\"), \"first_eval\")\n",
    "\n",
    "# Print counterfactuals and original instance for clarity\n",
    "print(\"Counterfactuals:\")\n",
    "print(counterfactuals[0].get_values_dict())\n",
    "print(\"Original instance:\")\n",
    "print(target_instance.get_values_dict())"
   ]
  },
  {
   "cell_type": "code",
   "execution_count": null,
   "metadata": {},
   "outputs": [],
   "source": []
  }
 ],
 "metadata": {
  "kernelspec": {
   "display_name": "trustce",
   "language": "python",
   "name": "python3"
  },
  "language_info": {
   "codemirror_mode": {
    "name": "ipython",
    "version": 3
   },
   "file_extension": ".py",
   "mimetype": "text/x-python",
   "name": "python",
   "nbconvert_exporter": "python",
   "pygments_lexer": "ipython3",
   "version": "3.9.16"
  }
 },
 "nbformat": 4,
 "nbformat_minor": 2
}
